{
 "cells": [
  {
   "cell_type": "code",
   "execution_count": 1,
   "id": "cc36df38",
   "metadata": {
    "_cell_guid": "b1076dfc-b9ad-4769-8c92-a6c4dae69d19",
    "_uuid": "8f2839f25d086af736a60e9eeb907d3b93b6e0e5",
    "execution": {
     "iopub.execute_input": "2024-10-17T13:54:58.265104Z",
     "iopub.status.busy": "2024-10-17T13:54:58.264130Z",
     "iopub.status.idle": "2024-10-17T13:55:00.329056Z",
     "shell.execute_reply": "2024-10-17T13:55:00.328176Z"
    },
    "papermill": {
     "duration": 2.081104,
     "end_time": "2024-10-17T13:55:00.331842",
     "exception": false,
     "start_time": "2024-10-17T13:54:58.250738",
     "status": "completed"
    },
    "tags": []
   },
   "outputs": [],
   "source": [
    "import numpy as np \n",
    "import pandas as pd \n",
    "import matplotlib.pyplot as plt\n",
    "import seaborn as sns\n",
    "sns.set()"
   ]
  },
  {
   "cell_type": "code",
   "execution_count": 2,
   "id": "b8969a99",
   "metadata": {
    "execution": {
     "iopub.execute_input": "2024-10-17T13:55:00.356773Z",
     "iopub.status.busy": "2024-10-17T13:55:00.356225Z",
     "iopub.status.idle": "2024-10-17T13:55:00.426973Z",
     "shell.execute_reply": "2024-10-17T13:55:00.425880Z"
    },
    "papermill": {
     "duration": 0.086365,
     "end_time": "2024-10-17T13:55:00.429271",
     "exception": false,
     "start_time": "2024-10-17T13:55:00.342906",
     "status": "completed"
    },
    "tags": []
   },
   "outputs": [
    {
     "data": {
      "text/html": [
       "<div>\n",
       "<style scoped>\n",
       "    .dataframe tbody tr th:only-of-type {\n",
       "        vertical-align: middle;\n",
       "    }\n",
       "\n",
       "    .dataframe tbody tr th {\n",
       "        vertical-align: top;\n",
       "    }\n",
       "\n",
       "    .dataframe thead th {\n",
       "        text-align: right;\n",
       "    }\n",
       "</style>\n",
       "<table border=\"1\" class=\"dataframe\">\n",
       "  <thead>\n",
       "    <tr style=\"text-align: right;\">\n",
       "      <th></th>\n",
       "      <th>Unnamed: 0</th>\n",
       "      <th>Name</th>\n",
       "      <th>Location</th>\n",
       "      <th>Year</th>\n",
       "      <th>Kilometers_Driven</th>\n",
       "      <th>Fuel_Type</th>\n",
       "      <th>Transmission</th>\n",
       "      <th>Owner_Type</th>\n",
       "      <th>Mileage</th>\n",
       "      <th>Engine</th>\n",
       "      <th>Power</th>\n",
       "      <th>Seats</th>\n",
       "      <th>New_Price</th>\n",
       "      <th>Price</th>\n",
       "    </tr>\n",
       "  </thead>\n",
       "  <tbody>\n",
       "    <tr>\n",
       "      <th>0</th>\n",
       "      <td>0</td>\n",
       "      <td>Maruti Wagon R LXI CNG</td>\n",
       "      <td>Mumbai</td>\n",
       "      <td>2010</td>\n",
       "      <td>72000</td>\n",
       "      <td>CNG</td>\n",
       "      <td>Manual</td>\n",
       "      <td>First</td>\n",
       "      <td>26.6 km/kg</td>\n",
       "      <td>998 CC</td>\n",
       "      <td>58.16 bhp</td>\n",
       "      <td>5.0</td>\n",
       "      <td>NaN</td>\n",
       "      <td>1.75</td>\n",
       "    </tr>\n",
       "    <tr>\n",
       "      <th>1</th>\n",
       "      <td>1</td>\n",
       "      <td>Hyundai Creta 1.6 CRDi SX Option</td>\n",
       "      <td>Pune</td>\n",
       "      <td>2015</td>\n",
       "      <td>41000</td>\n",
       "      <td>Diesel</td>\n",
       "      <td>Manual</td>\n",
       "      <td>First</td>\n",
       "      <td>19.67 kmpl</td>\n",
       "      <td>1582 CC</td>\n",
       "      <td>126.2 bhp</td>\n",
       "      <td>5.0</td>\n",
       "      <td>NaN</td>\n",
       "      <td>12.50</td>\n",
       "    </tr>\n",
       "    <tr>\n",
       "      <th>2</th>\n",
       "      <td>2</td>\n",
       "      <td>Honda Jazz V</td>\n",
       "      <td>Chennai</td>\n",
       "      <td>2011</td>\n",
       "      <td>46000</td>\n",
       "      <td>Petrol</td>\n",
       "      <td>Manual</td>\n",
       "      <td>First</td>\n",
       "      <td>18.2 kmpl</td>\n",
       "      <td>1199 CC</td>\n",
       "      <td>88.7 bhp</td>\n",
       "      <td>5.0</td>\n",
       "      <td>8.61 Lakh</td>\n",
       "      <td>4.50</td>\n",
       "    </tr>\n",
       "    <tr>\n",
       "      <th>3</th>\n",
       "      <td>3</td>\n",
       "      <td>Maruti Ertiga VDI</td>\n",
       "      <td>Chennai</td>\n",
       "      <td>2012</td>\n",
       "      <td>87000</td>\n",
       "      <td>Diesel</td>\n",
       "      <td>Manual</td>\n",
       "      <td>First</td>\n",
       "      <td>20.77 kmpl</td>\n",
       "      <td>1248 CC</td>\n",
       "      <td>88.76 bhp</td>\n",
       "      <td>7.0</td>\n",
       "      <td>NaN</td>\n",
       "      <td>6.00</td>\n",
       "    </tr>\n",
       "    <tr>\n",
       "      <th>4</th>\n",
       "      <td>4</td>\n",
       "      <td>Audi A4 New 2.0 TDI Multitronic</td>\n",
       "      <td>Coimbatore</td>\n",
       "      <td>2013</td>\n",
       "      <td>40670</td>\n",
       "      <td>Diesel</td>\n",
       "      <td>Automatic</td>\n",
       "      <td>Second</td>\n",
       "      <td>15.2 kmpl</td>\n",
       "      <td>1968 CC</td>\n",
       "      <td>140.8 bhp</td>\n",
       "      <td>5.0</td>\n",
       "      <td>NaN</td>\n",
       "      <td>17.74</td>\n",
       "    </tr>\n",
       "  </tbody>\n",
       "</table>\n",
       "</div>"
      ],
      "text/plain": [
       "   Unnamed: 0                              Name    Location  Year  \\\n",
       "0           0            Maruti Wagon R LXI CNG      Mumbai  2010   \n",
       "1           1  Hyundai Creta 1.6 CRDi SX Option        Pune  2015   \n",
       "2           2                      Honda Jazz V     Chennai  2011   \n",
       "3           3                 Maruti Ertiga VDI     Chennai  2012   \n",
       "4           4   Audi A4 New 2.0 TDI Multitronic  Coimbatore  2013   \n",
       "\n",
       "   Kilometers_Driven Fuel_Type Transmission Owner_Type     Mileage   Engine  \\\n",
       "0              72000       CNG       Manual      First  26.6 km/kg   998 CC   \n",
       "1              41000    Diesel       Manual      First  19.67 kmpl  1582 CC   \n",
       "2              46000    Petrol       Manual      First   18.2 kmpl  1199 CC   \n",
       "3              87000    Diesel       Manual      First  20.77 kmpl  1248 CC   \n",
       "4              40670    Diesel    Automatic     Second   15.2 kmpl  1968 CC   \n",
       "\n",
       "       Power  Seats  New_Price  Price  \n",
       "0  58.16 bhp    5.0        NaN   1.75  \n",
       "1  126.2 bhp    5.0        NaN  12.50  \n",
       "2   88.7 bhp    5.0  8.61 Lakh   4.50  \n",
       "3  88.76 bhp    7.0        NaN   6.00  \n",
       "4  140.8 bhp    5.0        NaN  17.74  "
      ]
     },
     "execution_count": 2,
     "metadata": {},
     "output_type": "execute_result"
    }
   ],
   "source": [
    "df = pd.read_csv(\"/kaggle/input/used-cars-price-prediction/train-data.csv\")\n",
    "df.head()"
   ]
  },
  {
   "cell_type": "code",
   "execution_count": 3,
   "id": "8d47f0db",
   "metadata": {
    "execution": {
     "iopub.execute_input": "2024-10-17T13:55:00.453308Z",
     "iopub.status.busy": "2024-10-17T13:55:00.452875Z",
     "iopub.status.idle": "2024-10-17T13:55:00.465217Z",
     "shell.execute_reply": "2024-10-17T13:55:00.464243Z"
    },
    "papermill": {
     "duration": 0.026835,
     "end_time": "2024-10-17T13:55:00.467475",
     "exception": false,
     "start_time": "2024-10-17T13:55:00.440640",
     "status": "completed"
    },
    "tags": []
   },
   "outputs": [
    {
     "data": {
      "text/plain": [
       "Unnamed: 0              0\n",
       "Name                    0\n",
       "Location                0\n",
       "Year                    0\n",
       "Kilometers_Driven       0\n",
       "Fuel_Type               0\n",
       "Transmission            0\n",
       "Owner_Type              0\n",
       "Mileage                 2\n",
       "Engine                 36\n",
       "Power                  36\n",
       "Seats                  42\n",
       "New_Price            5195\n",
       "Price                   0\n",
       "dtype: int64"
      ]
     },
     "execution_count": 3,
     "metadata": {},
     "output_type": "execute_result"
    }
   ],
   "source": [
    "# Check missing values \n",
    "df.isnull().sum()"
   ]
  },
  {
   "cell_type": "code",
   "execution_count": 4,
   "id": "65075798",
   "metadata": {
    "execution": {
     "iopub.execute_input": "2024-10-17T13:55:00.491240Z",
     "iopub.status.busy": "2024-10-17T13:55:00.490854Z",
     "iopub.status.idle": "2024-10-17T13:55:00.500885Z",
     "shell.execute_reply": "2024-10-17T13:55:00.500061Z"
    },
    "papermill": {
     "duration": 0.024365,
     "end_time": "2024-10-17T13:55:00.502973",
     "exception": false,
     "start_time": "2024-10-17T13:55:00.478608",
     "status": "completed"
    },
    "tags": []
   },
   "outputs": [],
   "source": [
    "# drop th column that has the most missing values \n",
    "df.drop(['Unnamed: 0','New_Price'] , axis=1 , inplace= True)"
   ]
  },
  {
   "cell_type": "code",
   "execution_count": 5,
   "id": "2b71316e",
   "metadata": {
    "execution": {
     "iopub.execute_input": "2024-10-17T13:55:00.527167Z",
     "iopub.status.busy": "2024-10-17T13:55:00.526781Z",
     "iopub.status.idle": "2024-10-17T13:55:00.542466Z",
     "shell.execute_reply": "2024-10-17T13:55:00.541437Z"
    },
    "papermill": {
     "duration": 0.030446,
     "end_time": "2024-10-17T13:55:00.544517",
     "exception": false,
     "start_time": "2024-10-17T13:55:00.514071",
     "status": "completed"
    },
    "tags": []
   },
   "outputs": [
    {
     "data": {
      "text/html": [
       "<div>\n",
       "<style scoped>\n",
       "    .dataframe tbody tr th:only-of-type {\n",
       "        vertical-align: middle;\n",
       "    }\n",
       "\n",
       "    .dataframe tbody tr th {\n",
       "        vertical-align: top;\n",
       "    }\n",
       "\n",
       "    .dataframe thead th {\n",
       "        text-align: right;\n",
       "    }\n",
       "</style>\n",
       "<table border=\"1\" class=\"dataframe\">\n",
       "  <thead>\n",
       "    <tr style=\"text-align: right;\">\n",
       "      <th></th>\n",
       "      <th>Name</th>\n",
       "      <th>Location</th>\n",
       "      <th>Year</th>\n",
       "      <th>Kilometers_Driven</th>\n",
       "      <th>Fuel_Type</th>\n",
       "      <th>Transmission</th>\n",
       "      <th>Owner_Type</th>\n",
       "      <th>Mileage</th>\n",
       "      <th>Engine</th>\n",
       "      <th>Power</th>\n",
       "      <th>Seats</th>\n",
       "      <th>Price</th>\n",
       "    </tr>\n",
       "  </thead>\n",
       "  <tbody>\n",
       "    <tr>\n",
       "      <th>0</th>\n",
       "      <td>Maruti Wagon R LXI CNG</td>\n",
       "      <td>Mumbai</td>\n",
       "      <td>2010</td>\n",
       "      <td>72000</td>\n",
       "      <td>CNG</td>\n",
       "      <td>Manual</td>\n",
       "      <td>First</td>\n",
       "      <td>26.6 km/kg</td>\n",
       "      <td>998 CC</td>\n",
       "      <td>58.16 bhp</td>\n",
       "      <td>5.0</td>\n",
       "      <td>1.75</td>\n",
       "    </tr>\n",
       "    <tr>\n",
       "      <th>1</th>\n",
       "      <td>Hyundai Creta 1.6 CRDi SX Option</td>\n",
       "      <td>Pune</td>\n",
       "      <td>2015</td>\n",
       "      <td>41000</td>\n",
       "      <td>Diesel</td>\n",
       "      <td>Manual</td>\n",
       "      <td>First</td>\n",
       "      <td>19.67 kmpl</td>\n",
       "      <td>1582 CC</td>\n",
       "      <td>126.2 bhp</td>\n",
       "      <td>5.0</td>\n",
       "      <td>12.50</td>\n",
       "    </tr>\n",
       "    <tr>\n",
       "      <th>2</th>\n",
       "      <td>Honda Jazz V</td>\n",
       "      <td>Chennai</td>\n",
       "      <td>2011</td>\n",
       "      <td>46000</td>\n",
       "      <td>Petrol</td>\n",
       "      <td>Manual</td>\n",
       "      <td>First</td>\n",
       "      <td>18.2 kmpl</td>\n",
       "      <td>1199 CC</td>\n",
       "      <td>88.7 bhp</td>\n",
       "      <td>5.0</td>\n",
       "      <td>4.50</td>\n",
       "    </tr>\n",
       "    <tr>\n",
       "      <th>3</th>\n",
       "      <td>Maruti Ertiga VDI</td>\n",
       "      <td>Chennai</td>\n",
       "      <td>2012</td>\n",
       "      <td>87000</td>\n",
       "      <td>Diesel</td>\n",
       "      <td>Manual</td>\n",
       "      <td>First</td>\n",
       "      <td>20.77 kmpl</td>\n",
       "      <td>1248 CC</td>\n",
       "      <td>88.76 bhp</td>\n",
       "      <td>7.0</td>\n",
       "      <td>6.00</td>\n",
       "    </tr>\n",
       "    <tr>\n",
       "      <th>4</th>\n",
       "      <td>Audi A4 New 2.0 TDI Multitronic</td>\n",
       "      <td>Coimbatore</td>\n",
       "      <td>2013</td>\n",
       "      <td>40670</td>\n",
       "      <td>Diesel</td>\n",
       "      <td>Automatic</td>\n",
       "      <td>Second</td>\n",
       "      <td>15.2 kmpl</td>\n",
       "      <td>1968 CC</td>\n",
       "      <td>140.8 bhp</td>\n",
       "      <td>5.0</td>\n",
       "      <td>17.74</td>\n",
       "    </tr>\n",
       "  </tbody>\n",
       "</table>\n",
       "</div>"
      ],
      "text/plain": [
       "                               Name    Location  Year  Kilometers_Driven  \\\n",
       "0            Maruti Wagon R LXI CNG      Mumbai  2010              72000   \n",
       "1  Hyundai Creta 1.6 CRDi SX Option        Pune  2015              41000   \n",
       "2                      Honda Jazz V     Chennai  2011              46000   \n",
       "3                 Maruti Ertiga VDI     Chennai  2012              87000   \n",
       "4   Audi A4 New 2.0 TDI Multitronic  Coimbatore  2013              40670   \n",
       "\n",
       "  Fuel_Type Transmission Owner_Type     Mileage   Engine      Power  Seats  \\\n",
       "0       CNG       Manual      First  26.6 km/kg   998 CC  58.16 bhp    5.0   \n",
       "1    Diesel       Manual      First  19.67 kmpl  1582 CC  126.2 bhp    5.0   \n",
       "2    Petrol       Manual      First   18.2 kmpl  1199 CC   88.7 bhp    5.0   \n",
       "3    Diesel       Manual      First  20.77 kmpl  1248 CC  88.76 bhp    7.0   \n",
       "4    Diesel    Automatic     Second   15.2 kmpl  1968 CC  140.8 bhp    5.0   \n",
       "\n",
       "   Price  \n",
       "0   1.75  \n",
       "1  12.50  \n",
       "2   4.50  \n",
       "3   6.00  \n",
       "4  17.74  "
      ]
     },
     "execution_count": 5,
     "metadata": {},
     "output_type": "execute_result"
    }
   ],
   "source": [
    "df.head()"
   ]
  },
  {
   "cell_type": "code",
   "execution_count": 6,
   "id": "8d80de45",
   "metadata": {
    "execution": {
     "iopub.execute_input": "2024-10-17T13:55:00.568835Z",
     "iopub.status.busy": "2024-10-17T13:55:00.568435Z",
     "iopub.status.idle": "2024-10-17T13:55:00.590578Z",
     "shell.execute_reply": "2024-10-17T13:55:00.589462Z"
    },
    "papermill": {
     "duration": 0.037643,
     "end_time": "2024-10-17T13:55:00.593551",
     "exception": false,
     "start_time": "2024-10-17T13:55:00.555908",
     "status": "completed"
    },
    "tags": []
   },
   "outputs": [
    {
     "name": "stdout",
     "output_type": "stream",
     "text": [
      "<class 'pandas.core.frame.DataFrame'>\n",
      "RangeIndex: 6019 entries, 0 to 6018\n",
      "Data columns (total 12 columns):\n",
      " #   Column             Non-Null Count  Dtype  \n",
      "---  ------             --------------  -----  \n",
      " 0   Name               6019 non-null   object \n",
      " 1   Location           6019 non-null   object \n",
      " 2   Year               6019 non-null   int64  \n",
      " 3   Kilometers_Driven  6019 non-null   int64  \n",
      " 4   Fuel_Type          6019 non-null   object \n",
      " 5   Transmission       6019 non-null   object \n",
      " 6   Owner_Type         6019 non-null   object \n",
      " 7   Mileage            6017 non-null   object \n",
      " 8   Engine             5983 non-null   object \n",
      " 9   Power              5983 non-null   object \n",
      " 10  Seats              5977 non-null   float64\n",
      " 11  Price              6019 non-null   float64\n",
      "dtypes: float64(2), int64(2), object(8)\n",
      "memory usage: 564.4+ KB\n"
     ]
    }
   ],
   "source": [
    "df.info()"
   ]
  },
  {
   "cell_type": "code",
   "execution_count": 7,
   "id": "8c611e2d",
   "metadata": {
    "execution": {
     "iopub.execute_input": "2024-10-17T13:55:00.619030Z",
     "iopub.status.busy": "2024-10-17T13:55:00.618131Z",
     "iopub.status.idle": "2024-10-17T13:55:00.642106Z",
     "shell.execute_reply": "2024-10-17T13:55:00.641128Z"
    },
    "papermill": {
     "duration": 0.038905,
     "end_time": "2024-10-17T13:55:00.644374",
     "exception": false,
     "start_time": "2024-10-17T13:55:00.605469",
     "status": "completed"
    },
    "tags": []
   },
   "outputs": [
    {
     "data": {
      "text/html": [
       "<div>\n",
       "<style scoped>\n",
       "    .dataframe tbody tr th:only-of-type {\n",
       "        vertical-align: middle;\n",
       "    }\n",
       "\n",
       "    .dataframe tbody tr th {\n",
       "        vertical-align: top;\n",
       "    }\n",
       "\n",
       "    .dataframe thead th {\n",
       "        text-align: right;\n",
       "    }\n",
       "</style>\n",
       "<table border=\"1\" class=\"dataframe\">\n",
       "  <thead>\n",
       "    <tr style=\"text-align: right;\">\n",
       "      <th></th>\n",
       "      <th>Year</th>\n",
       "      <th>Kilometers_Driven</th>\n",
       "      <th>Seats</th>\n",
       "      <th>Price</th>\n",
       "    </tr>\n",
       "  </thead>\n",
       "  <tbody>\n",
       "    <tr>\n",
       "      <th>count</th>\n",
       "      <td>6019.000000</td>\n",
       "      <td>6.019000e+03</td>\n",
       "      <td>5977.000000</td>\n",
       "      <td>6019.000000</td>\n",
       "    </tr>\n",
       "    <tr>\n",
       "      <th>mean</th>\n",
       "      <td>2013.358199</td>\n",
       "      <td>5.873838e+04</td>\n",
       "      <td>5.278735</td>\n",
       "      <td>9.479468</td>\n",
       "    </tr>\n",
       "    <tr>\n",
       "      <th>std</th>\n",
       "      <td>3.269742</td>\n",
       "      <td>9.126884e+04</td>\n",
       "      <td>0.808840</td>\n",
       "      <td>11.187917</td>\n",
       "    </tr>\n",
       "    <tr>\n",
       "      <th>min</th>\n",
       "      <td>1998.000000</td>\n",
       "      <td>1.710000e+02</td>\n",
       "      <td>0.000000</td>\n",
       "      <td>0.440000</td>\n",
       "    </tr>\n",
       "    <tr>\n",
       "      <th>25%</th>\n",
       "      <td>2011.000000</td>\n",
       "      <td>3.400000e+04</td>\n",
       "      <td>5.000000</td>\n",
       "      <td>3.500000</td>\n",
       "    </tr>\n",
       "    <tr>\n",
       "      <th>50%</th>\n",
       "      <td>2014.000000</td>\n",
       "      <td>5.300000e+04</td>\n",
       "      <td>5.000000</td>\n",
       "      <td>5.640000</td>\n",
       "    </tr>\n",
       "    <tr>\n",
       "      <th>75%</th>\n",
       "      <td>2016.000000</td>\n",
       "      <td>7.300000e+04</td>\n",
       "      <td>5.000000</td>\n",
       "      <td>9.950000</td>\n",
       "    </tr>\n",
       "    <tr>\n",
       "      <th>max</th>\n",
       "      <td>2019.000000</td>\n",
       "      <td>6.500000e+06</td>\n",
       "      <td>10.000000</td>\n",
       "      <td>160.000000</td>\n",
       "    </tr>\n",
       "  </tbody>\n",
       "</table>\n",
       "</div>"
      ],
      "text/plain": [
       "              Year  Kilometers_Driven        Seats        Price\n",
       "count  6019.000000       6.019000e+03  5977.000000  6019.000000\n",
       "mean   2013.358199       5.873838e+04     5.278735     9.479468\n",
       "std       3.269742       9.126884e+04     0.808840    11.187917\n",
       "min    1998.000000       1.710000e+02     0.000000     0.440000\n",
       "25%    2011.000000       3.400000e+04     5.000000     3.500000\n",
       "50%    2014.000000       5.300000e+04     5.000000     5.640000\n",
       "75%    2016.000000       7.300000e+04     5.000000     9.950000\n",
       "max    2019.000000       6.500000e+06    10.000000   160.000000"
      ]
     },
     "execution_count": 7,
     "metadata": {},
     "output_type": "execute_result"
    }
   ],
   "source": [
    "df.describe() # Numerical"
   ]
  },
  {
   "cell_type": "code",
   "execution_count": 8,
   "id": "6bd62863",
   "metadata": {
    "execution": {
     "iopub.execute_input": "2024-10-17T13:55:00.669230Z",
     "iopub.status.busy": "2024-10-17T13:55:00.668833Z",
     "iopub.status.idle": "2024-10-17T13:55:00.697569Z",
     "shell.execute_reply": "2024-10-17T13:55:00.696655Z"
    },
    "papermill": {
     "duration": 0.043934,
     "end_time": "2024-10-17T13:55:00.699937",
     "exception": false,
     "start_time": "2024-10-17T13:55:00.656003",
     "status": "completed"
    },
    "tags": []
   },
   "outputs": [
    {
     "data": {
      "text/html": [
       "<div>\n",
       "<style scoped>\n",
       "    .dataframe tbody tr th:only-of-type {\n",
       "        vertical-align: middle;\n",
       "    }\n",
       "\n",
       "    .dataframe tbody tr th {\n",
       "        vertical-align: top;\n",
       "    }\n",
       "\n",
       "    .dataframe thead th {\n",
       "        text-align: right;\n",
       "    }\n",
       "</style>\n",
       "<table border=\"1\" class=\"dataframe\">\n",
       "  <thead>\n",
       "    <tr style=\"text-align: right;\">\n",
       "      <th></th>\n",
       "      <th>Name</th>\n",
       "      <th>Location</th>\n",
       "      <th>Fuel_Type</th>\n",
       "      <th>Transmission</th>\n",
       "      <th>Owner_Type</th>\n",
       "      <th>Mileage</th>\n",
       "      <th>Engine</th>\n",
       "      <th>Power</th>\n",
       "    </tr>\n",
       "  </thead>\n",
       "  <tbody>\n",
       "    <tr>\n",
       "      <th>count</th>\n",
       "      <td>6019</td>\n",
       "      <td>6019</td>\n",
       "      <td>6019</td>\n",
       "      <td>6019</td>\n",
       "      <td>6019</td>\n",
       "      <td>6017</td>\n",
       "      <td>5983</td>\n",
       "      <td>5983</td>\n",
       "    </tr>\n",
       "    <tr>\n",
       "      <th>unique</th>\n",
       "      <td>1876</td>\n",
       "      <td>11</td>\n",
       "      <td>5</td>\n",
       "      <td>2</td>\n",
       "      <td>4</td>\n",
       "      <td>442</td>\n",
       "      <td>146</td>\n",
       "      <td>372</td>\n",
       "    </tr>\n",
       "    <tr>\n",
       "      <th>top</th>\n",
       "      <td>Mahindra XUV500 W8 2WD</td>\n",
       "      <td>Mumbai</td>\n",
       "      <td>Diesel</td>\n",
       "      <td>Manual</td>\n",
       "      <td>First</td>\n",
       "      <td>18.9 kmpl</td>\n",
       "      <td>1197 CC</td>\n",
       "      <td>74 bhp</td>\n",
       "    </tr>\n",
       "    <tr>\n",
       "      <th>freq</th>\n",
       "      <td>49</td>\n",
       "      <td>790</td>\n",
       "      <td>3205</td>\n",
       "      <td>4299</td>\n",
       "      <td>4929</td>\n",
       "      <td>172</td>\n",
       "      <td>606</td>\n",
       "      <td>235</td>\n",
       "    </tr>\n",
       "  </tbody>\n",
       "</table>\n",
       "</div>"
      ],
      "text/plain": [
       "                          Name Location Fuel_Type Transmission Owner_Type  \\\n",
       "count                     6019     6019      6019         6019       6019   \n",
       "unique                    1876       11         5            2          4   \n",
       "top     Mahindra XUV500 W8 2WD   Mumbai    Diesel       Manual      First   \n",
       "freq                        49      790      3205         4299       4929   \n",
       "\n",
       "          Mileage   Engine   Power  \n",
       "count        6017     5983    5983  \n",
       "unique        442      146     372  \n",
       "top     18.9 kmpl  1197 CC  74 bhp  \n",
       "freq          172      606     235  "
      ]
     },
     "execution_count": 8,
     "metadata": {},
     "output_type": "execute_result"
    }
   ],
   "source": [
    "df.describe(include= 'O') # Categorical"
   ]
  },
  {
   "cell_type": "code",
   "execution_count": 9,
   "id": "11b16602",
   "metadata": {
    "execution": {
     "iopub.execute_input": "2024-10-17T13:55:00.725508Z",
     "iopub.status.busy": "2024-10-17T13:55:00.724660Z",
     "iopub.status.idle": "2024-10-17T13:55:02.109051Z",
     "shell.execute_reply": "2024-10-17T13:55:02.108004Z"
    },
    "papermill": {
     "duration": 1.399846,
     "end_time": "2024-10-17T13:55:02.111471",
     "exception": false,
     "start_time": "2024-10-17T13:55:00.711625",
     "status": "completed"
    },
    "tags": []
   },
   "outputs": [
    {
     "data": {
      "image/png": "[encoded data removed]",
      "text/plain": [
       "<Figure size 640x480 with 1 Axes>"
      ]
     },
     "metadata": {},
     "output_type": "display_data"
    },
    {
     "data": {
      "image/png": "[encoded data removed]",
      "text/plain": [
       "<Figure size 640x480 with 1 Axes>"
      ]
     },
     "metadata": {},
     "output_type": "display_data"
    },
    {
     "data": {
      "image/png": "[encoded data removed]",
      "text/plain": [
       "<Figure size 640x480 with 1 Axes>"
      ]
     },
     "metadata": {},
     "output_type": "display_data"
    },
    {
     "data": {
      "image/png": "[encoded data removed]",
      "text/plain": [
       "<Figure size 640x480 with 1 Axes>"
      ]
     },
     "metadata": {},
     "output_type": "display_data"
    },
    {
     "data": {
      "image/png": "[encoded data removed]",
      "text/plain": [
       "<Figure size 640x480 with 1 Axes>"
      ]
     },
     "metadata": {},
     "output_type": "display_data"
    }
   ],
   "source": [
    "for col in ['Year','Seats','Fuel_Type','Transmission','Owner_Type']:\n",
    "    df[col]= df[col].astype('object')\n",
    "    sns.countplot(data = df, x=col)\n",
    "    plt.show()"
   ]
  },
  {
   "cell_type": "code",
   "execution_count": 10,
   "id": "b01dbb88",
   "metadata": {
    "execution": {
     "iopub.execute_input": "2024-10-17T13:55:02.141050Z",
     "iopub.status.busy": "2024-10-17T13:55:02.140631Z",
     "iopub.status.idle": "2024-10-17T13:55:05.746478Z",
     "shell.execute_reply": "2024-10-17T13:55:05.745282Z"
    },
    "papermill": {
     "duration": 3.623768,
     "end_time": "2024-10-17T13:55:05.749493",
     "exception": false,
     "start_time": "2024-10-17T13:55:02.125725",
     "status": "completed"
    },
    "tags": []
   },
   "outputs": [
    {
     "name": "stderr",
     "output_type": "stream",
     "text": [
      "/opt/conda/lib/python3.10/site-packages/seaborn/_oldcore.py:1119: FutureWarning: use_inf_as_na option is deprecated and will be removed in a future version. Convert inf values to NaN before operating instead.\n",
      "  with pd.option_context('mode.use_inf_as_na', True):\n"
     ]
    },
    {
     "data": {
      "image/png": "[encoded data removed]",
      "text/plain": [
       "<Figure size 640x480 with 1 Axes>"
      ]
     },
     "metadata": {},
     "output_type": "display_data"
    },
    {
     "data": {
      "image/png": "[encoded data removed]",
      "text/plain": [
       "<Figure size 640x480 with 1 Axes>"
      ]
     },
     "metadata": {},
     "output_type": "display_data"
    },
    {
     "name": "stderr",
     "output_type": "stream",
     "text": [
      "/opt/conda/lib/python3.10/site-packages/seaborn/_oldcore.py:1119: FutureWarning: use_inf_as_na option is deprecated and will be removed in a future version. Convert inf values to NaN before operating instead.\n",
      "  with pd.option_context('mode.use_inf_as_na', True):\n"
     ]
    },
    {
     "data": {
      "image/png": "[encoded data removed]",
      "text/plain": [
       "<Figure size 640x480 with 1 Axes>"
      ]
     },
     "metadata": {},
     "output_type": "display_data"
    },
    {
     "data": {
      "image/png": "[encoded data removed]",
      "text/plain": [
       "<Figure size 640x480 with 1 Axes>"
      ]
     },
     "metadata": {},
     "output_type": "display_data"
    }
   ],
   "source": [
    "for col in ['Kilometers_Driven', 'Price']:\n",
    "    sns.histplot(data = df, x=col)\n",
    "    plt.show()\n",
    "    \n",
    "    sns.boxplot(data = df, x=col)\n",
    "    plt.show()"
   ]
  },
  {
   "cell_type": "code",
   "execution_count": 11,
   "id": "0d735467",
   "metadata": {
    "execution": {
     "iopub.execute_input": "2024-10-17T13:55:05.784547Z",
     "iopub.status.busy": "2024-10-17T13:55:05.783630Z",
     "iopub.status.idle": "2024-10-17T13:55:06.110197Z",
     "shell.execute_reply": "2024-10-17T13:55:06.109105Z"
    },
    "papermill": {
     "duration": 0.345248,
     "end_time": "2024-10-17T13:55:06.112379",
     "exception": false,
     "start_time": "2024-10-17T13:55:05.767131",
     "status": "completed"
    },
    "tags": []
   },
   "outputs": [
    {
     "data": {
      "text/plain": [
       "<Axes: xlabel='price_usd'>"
      ]
     },
     "execution_count": 11,
     "metadata": {},
     "output_type": "execute_result"
    },
    {
     "data": {
      "image/png": "[encoded data removed]",
      "text/plain": [
       "<Figure size 640x480 with 1 Axes>"
      ]
     },
     "metadata": {},
     "output_type": "display_data"
    }
   ],
   "source": [
    "df['price_usd'] = df['Price']*1193.15\n",
    "sns.boxplot(data= df, x= 'price_usd')"
   ]
  },
  {
   "cell_type": "markdown",
   "id": "a7756746",
   "metadata": {
    "papermill": {
     "duration": 0.014759,
     "end_time": "2024-10-17T13:55:06.142377",
     "exception": false,
     "start_time": "2024-10-17T13:55:06.127618",
     "status": "completed"
    },
    "tags": []
   },
   "source": [
    "## Preprocessing"
   ]
  },
  {
   "cell_type": "code",
   "execution_count": 12,
   "id": "133e27cc",
   "metadata": {
    "execution": {
     "iopub.execute_input": "2024-10-17T13:55:06.174668Z",
     "iopub.status.busy": "2024-10-17T13:55:06.173662Z",
     "iopub.status.idle": "2024-10-17T13:55:06.185876Z",
     "shell.execute_reply": "2024-10-17T13:55:06.184941Z"
    },
    "papermill": {
     "duration": 0.030375,
     "end_time": "2024-10-17T13:55:06.187884",
     "exception": false,
     "start_time": "2024-10-17T13:55:06.157509",
     "status": "completed"
    },
    "tags": []
   },
   "outputs": [
    {
     "data": {
      "text/plain": [
       "31"
      ]
     },
     "execution_count": 12,
     "metadata": {},
     "output_type": "execute_result"
    }
   ],
   "source": [
    "df['Brand'] = df['Name'].apply(lambda x : x.split()[0])\n",
    "df['Brand'].nunique()"
   ]
  },
  {
   "cell_type": "code",
   "execution_count": 13,
   "id": "0d53c31c",
   "metadata": {
    "execution": {
     "iopub.execute_input": "2024-10-17T13:55:06.220450Z",
     "iopub.status.busy": "2024-10-17T13:55:06.219521Z",
     "iopub.status.idle": "2024-10-17T13:55:06.228786Z",
     "shell.execute_reply": "2024-10-17T13:55:06.227770Z"
    },
    "papermill": {
     "duration": 0.027886,
     "end_time": "2024-10-17T13:55:06.230889",
     "exception": false,
     "start_time": "2024-10-17T13:55:06.203003",
     "status": "completed"
    },
    "tags": []
   },
   "outputs": [
    {
     "data": {
      "text/plain": [
       "Brand\n",
       "Maruti           1211\n",
       "Hyundai          1107\n",
       "Honda             608\n",
       "Toyota            411\n",
       "Mercedes-Benz     318\n",
       "Volkswagen        315\n",
       "Ford              300\n",
       "Mahindra          272\n",
       "BMW               267\n",
       "Audi              236\n",
       "Tata              186\n",
       "Skoda             173\n",
       "Renault           145\n",
       "Chevrolet         121\n",
       "Nissan             91\n",
       "Land               60\n",
       "Jaguar             40\n",
       "Fiat               28\n",
       "Mitsubishi         27\n",
       "Mini               26\n",
       "Volvo              21\n",
       "Porsche            18\n",
       "Jeep               15\n",
       "Datsun             13\n",
       "Force               3\n",
       "ISUZU               2\n",
       "Smart               1\n",
       "Ambassador          1\n",
       "Isuzu               1\n",
       "Bentley             1\n",
       "Lamborghini         1\n",
       "Name: count, dtype: int64"
      ]
     },
     "execution_count": 13,
     "metadata": {},
     "output_type": "execute_result"
    }
   ],
   "source": [
    "df['Brand'].value_counts()"
   ]
  },
  {
   "cell_type": "code",
   "execution_count": 14,
   "id": "f3911e86",
   "metadata": {
    "execution": {
     "iopub.execute_input": "2024-10-17T13:55:06.264023Z",
     "iopub.status.busy": "2024-10-17T13:55:06.262944Z",
     "iopub.status.idle": "2024-10-17T13:55:06.285006Z",
     "shell.execute_reply": "2024-10-17T13:55:06.284043Z"
    },
    "papermill": {
     "duration": 0.04102,
     "end_time": "2024-10-17T13:55:06.287161",
     "exception": false,
     "start_time": "2024-10-17T13:55:06.246141",
     "status": "completed"
    },
    "tags": []
   },
   "outputs": [
    {
     "data": {
      "text/html": [
       "<div>\n",
       "<style scoped>\n",
       "    .dataframe tbody tr th:only-of-type {\n",
       "        vertical-align: middle;\n",
       "    }\n",
       "\n",
       "    .dataframe tbody tr th {\n",
       "        vertical-align: top;\n",
       "    }\n",
       "\n",
       "    .dataframe thead th {\n",
       "        text-align: right;\n",
       "    }\n",
       "</style>\n",
       "<table border=\"1\" class=\"dataframe\">\n",
       "  <thead>\n",
       "    <tr style=\"text-align: right;\">\n",
       "      <th></th>\n",
       "      <th>Name</th>\n",
       "      <th>Location</th>\n",
       "      <th>Year</th>\n",
       "      <th>Kilometers_Driven</th>\n",
       "      <th>Fuel_Type</th>\n",
       "      <th>Transmission</th>\n",
       "      <th>Owner_Type</th>\n",
       "      <th>Mileage</th>\n",
       "      <th>Engine</th>\n",
       "      <th>Power</th>\n",
       "      <th>Seats</th>\n",
       "      <th>Price</th>\n",
       "      <th>price_usd</th>\n",
       "      <th>Brand</th>\n",
       "    </tr>\n",
       "  </thead>\n",
       "  <tbody>\n",
       "    <tr>\n",
       "      <th>0</th>\n",
       "      <td>Maruti Wagon R LXI CNG</td>\n",
       "      <td>Mumbai</td>\n",
       "      <td>2010</td>\n",
       "      <td>72000</td>\n",
       "      <td>CNG</td>\n",
       "      <td>Manual</td>\n",
       "      <td>First</td>\n",
       "      <td>26.6 km/kg</td>\n",
       "      <td>998 CC</td>\n",
       "      <td>58.16 bhp</td>\n",
       "      <td>5.0</td>\n",
       "      <td>1.75</td>\n",
       "      <td>2088.0125</td>\n",
       "      <td>Maruti</td>\n",
       "    </tr>\n",
       "    <tr>\n",
       "      <th>3</th>\n",
       "      <td>Maruti Ertiga VDI</td>\n",
       "      <td>Chennai</td>\n",
       "      <td>2012</td>\n",
       "      <td>87000</td>\n",
       "      <td>Diesel</td>\n",
       "      <td>Manual</td>\n",
       "      <td>First</td>\n",
       "      <td>20.77 kmpl</td>\n",
       "      <td>1248 CC</td>\n",
       "      <td>88.76 bhp</td>\n",
       "      <td>7.0</td>\n",
       "      <td>6.00</td>\n",
       "      <td>7158.9000</td>\n",
       "      <td>Maruti</td>\n",
       "    </tr>\n",
       "    <tr>\n",
       "      <th>10</th>\n",
       "      <td>Maruti Ciaz Zeta</td>\n",
       "      <td>Kochi</td>\n",
       "      <td>2018</td>\n",
       "      <td>25692</td>\n",
       "      <td>Petrol</td>\n",
       "      <td>Manual</td>\n",
       "      <td>First</td>\n",
       "      <td>21.56 kmpl</td>\n",
       "      <td>1462 CC</td>\n",
       "      <td>103.25 bhp</td>\n",
       "      <td>5.0</td>\n",
       "      <td>9.95</td>\n",
       "      <td>11871.8425</td>\n",
       "      <td>Maruti</td>\n",
       "    </tr>\n",
       "    <tr>\n",
       "      <th>12</th>\n",
       "      <td>Maruti Swift VDI BSIV</td>\n",
       "      <td>Jaipur</td>\n",
       "      <td>2015</td>\n",
       "      <td>64424</td>\n",
       "      <td>Diesel</td>\n",
       "      <td>Manual</td>\n",
       "      <td>First</td>\n",
       "      <td>25.2 kmpl</td>\n",
       "      <td>1248 CC</td>\n",
       "      <td>74 bhp</td>\n",
       "      <td>5.0</td>\n",
       "      <td>5.60</td>\n",
       "      <td>6681.6400</td>\n",
       "      <td>Maruti</td>\n",
       "    </tr>\n",
       "    <tr>\n",
       "      <th>17</th>\n",
       "      <td>Maruti Swift DDiS VDI</td>\n",
       "      <td>Jaipur</td>\n",
       "      <td>2017</td>\n",
       "      <td>25000</td>\n",
       "      <td>Diesel</td>\n",
       "      <td>Manual</td>\n",
       "      <td>First</td>\n",
       "      <td>28.4 kmpl</td>\n",
       "      <td>1248 CC</td>\n",
       "      <td>74 bhp</td>\n",
       "      <td>5.0</td>\n",
       "      <td>5.99</td>\n",
       "      <td>7146.9685</td>\n",
       "      <td>Maruti</td>\n",
       "    </tr>\n",
       "    <tr>\n",
       "      <th>...</th>\n",
       "      <td>...</td>\n",
       "      <td>...</td>\n",
       "      <td>...</td>\n",
       "      <td>...</td>\n",
       "      <td>...</td>\n",
       "      <td>...</td>\n",
       "      <td>...</td>\n",
       "      <td>...</td>\n",
       "      <td>...</td>\n",
       "      <td>...</td>\n",
       "      <td>...</td>\n",
       "      <td>...</td>\n",
       "      <td>...</td>\n",
       "      <td>...</td>\n",
       "    </tr>\n",
       "    <tr>\n",
       "      <th>6003</th>\n",
       "      <td>Maruti Celerio VXI</td>\n",
       "      <td>Bangalore</td>\n",
       "      <td>2015</td>\n",
       "      <td>67600</td>\n",
       "      <td>Petrol</td>\n",
       "      <td>Manual</td>\n",
       "      <td>First</td>\n",
       "      <td>23.1 kmpl</td>\n",
       "      <td>998 CC</td>\n",
       "      <td>67.04 bhp</td>\n",
       "      <td>5.0</td>\n",
       "      <td>4.00</td>\n",
       "      <td>4772.6000</td>\n",
       "      <td>Maruti</td>\n",
       "    </tr>\n",
       "    <tr>\n",
       "      <th>6005</th>\n",
       "      <td>Maruti Vitara Brezza VDi</td>\n",
       "      <td>Pune</td>\n",
       "      <td>2016</td>\n",
       "      <td>37208</td>\n",
       "      <td>Diesel</td>\n",
       "      <td>Manual</td>\n",
       "      <td>First</td>\n",
       "      <td>24.3 kmpl</td>\n",
       "      <td>1248 CC</td>\n",
       "      <td>88.5 bhp</td>\n",
       "      <td>5.0</td>\n",
       "      <td>7.43</td>\n",
       "      <td>8865.1045</td>\n",
       "      <td>Maruti</td>\n",
       "    </tr>\n",
       "    <tr>\n",
       "      <th>6007</th>\n",
       "      <td>Maruti Swift Dzire Vdi BSIV</td>\n",
       "      <td>Delhi</td>\n",
       "      <td>2011</td>\n",
       "      <td>68000</td>\n",
       "      <td>Diesel</td>\n",
       "      <td>Manual</td>\n",
       "      <td>First</td>\n",
       "      <td>19.3 kmpl</td>\n",
       "      <td>1248 CC</td>\n",
       "      <td>73.9 bhp</td>\n",
       "      <td>5.0</td>\n",
       "      <td>2.75</td>\n",
       "      <td>3281.1625</td>\n",
       "      <td>Maruti</td>\n",
       "    </tr>\n",
       "    <tr>\n",
       "      <th>6014</th>\n",
       "      <td>Maruti Swift VDI</td>\n",
       "      <td>Delhi</td>\n",
       "      <td>2014</td>\n",
       "      <td>27365</td>\n",
       "      <td>Diesel</td>\n",
       "      <td>Manual</td>\n",
       "      <td>First</td>\n",
       "      <td>28.4 kmpl</td>\n",
       "      <td>1248 CC</td>\n",
       "      <td>74 bhp</td>\n",
       "      <td>5.0</td>\n",
       "      <td>4.75</td>\n",
       "      <td>5667.4625</td>\n",
       "      <td>Maruti</td>\n",
       "    </tr>\n",
       "    <tr>\n",
       "      <th>6017</th>\n",
       "      <td>Maruti Wagon R VXI</td>\n",
       "      <td>Kolkata</td>\n",
       "      <td>2013</td>\n",
       "      <td>46000</td>\n",
       "      <td>Petrol</td>\n",
       "      <td>Manual</td>\n",
       "      <td>First</td>\n",
       "      <td>18.9 kmpl</td>\n",
       "      <td>998 CC</td>\n",
       "      <td>67.1 bhp</td>\n",
       "      <td>5.0</td>\n",
       "      <td>2.65</td>\n",
       "      <td>3161.8475</td>\n",
       "      <td>Maruti</td>\n",
       "    </tr>\n",
       "  </tbody>\n",
       "</table>\n",
       "<p>1211 rows × 14 columns</p>\n",
       "</div>"
      ],
      "text/plain": [
       "                             Name   Location  Year  Kilometers_Driven  \\\n",
       "0          Maruti Wagon R LXI CNG     Mumbai  2010              72000   \n",
       "3               Maruti Ertiga VDI    Chennai  2012              87000   \n",
       "10               Maruti Ciaz Zeta      Kochi  2018              25692   \n",
       "12          Maruti Swift VDI BSIV     Jaipur  2015              64424   \n",
       "17          Maruti Swift DDiS VDI     Jaipur  2017              25000   \n",
       "...                           ...        ...   ...                ...   \n",
       "6003           Maruti Celerio VXI  Bangalore  2015              67600   \n",
       "6005     Maruti Vitara Brezza VDi       Pune  2016              37208   \n",
       "6007  Maruti Swift Dzire Vdi BSIV      Delhi  2011              68000   \n",
       "6014             Maruti Swift VDI      Delhi  2014              27365   \n",
       "6017           Maruti Wagon R VXI    Kolkata  2013              46000   \n",
       "\n",
       "     Fuel_Type Transmission Owner_Type     Mileage   Engine       Power Seats  \\\n",
       "0          CNG       Manual      First  26.6 km/kg   998 CC   58.16 bhp   5.0   \n",
       "3       Diesel       Manual      First  20.77 kmpl  1248 CC   88.76 bhp   7.0   \n",
       "10      Petrol       Manual      First  21.56 kmpl  1462 CC  103.25 bhp   5.0   \n",
       "12      Diesel       Manual      First   25.2 kmpl  1248 CC      74 bhp   5.0   \n",
       "17      Diesel       Manual      First   28.4 kmpl  1248 CC      74 bhp   5.0   \n",
       "...        ...          ...        ...         ...      ...         ...   ...   \n",
       "6003    Petrol       Manual      First   23.1 kmpl   998 CC   67.04 bhp   5.0   \n",
       "6005    Diesel       Manual      First   24.3 kmpl  1248 CC    88.5 bhp   5.0   \n",
       "6007    Diesel       Manual      First   19.3 kmpl  1248 CC    73.9 bhp   5.0   \n",
       "6014    Diesel       Manual      First   28.4 kmpl  1248 CC      74 bhp   5.0   \n",
       "6017    Petrol       Manual      First   18.9 kmpl   998 CC    67.1 bhp   5.0   \n",
       "\n",
       "      Price   price_usd   Brand  \n",
       "0      1.75   2088.0125  Maruti  \n",
       "3      6.00   7158.9000  Maruti  \n",
       "10     9.95  11871.8425  Maruti  \n",
       "12     5.60   6681.6400  Maruti  \n",
       "17     5.99   7146.9685  Maruti  \n",
       "...     ...         ...     ...  \n",
       "6003   4.00   4772.6000  Maruti  \n",
       "6005   7.43   8865.1045  Maruti  \n",
       "6007   2.75   3281.1625  Maruti  \n",
       "6014   4.75   5667.4625  Maruti  \n",
       "6017   2.65   3161.8475  Maruti  \n",
       "\n",
       "[1211 rows x 14 columns]"
      ]
     },
     "execution_count": 14,
     "metadata": {},
     "output_type": "execute_result"
    }
   ],
   "source": [
    "df[df['Brand'] == 'Maruti']"
   ]
  },
  {
   "cell_type": "code",
   "execution_count": 15,
   "id": "ca67771c",
   "metadata": {
    "execution": {
     "iopub.execute_input": "2024-10-17T13:55:06.320875Z",
     "iopub.status.busy": "2024-10-17T13:55:06.320472Z",
     "iopub.status.idle": "2024-10-17T13:55:06.333202Z",
     "shell.execute_reply": "2024-10-17T13:55:06.332213Z"
    },
    "papermill": {
     "duration": 0.031836,
     "end_time": "2024-10-17T13:55:06.335171",
     "exception": false,
     "start_time": "2024-10-17T13:55:06.303335",
     "status": "completed"
    },
    "tags": []
   },
   "outputs": [
    {
     "data": {
      "text/plain": [
       "212"
      ]
     },
     "execution_count": 15,
     "metadata": {},
     "output_type": "execute_result"
    }
   ],
   "source": [
    "df['Model'] = df['Name'].apply(lambda x : x.split()[1])\n",
    "df['Model'].nunique()"
   ]
  },
  {
   "cell_type": "code",
   "execution_count": 16,
   "id": "307f4813",
   "metadata": {
    "execution": {
     "iopub.execute_input": "2024-10-17T13:55:06.369031Z",
     "iopub.status.busy": "2024-10-17T13:55:06.368286Z",
     "iopub.status.idle": "2024-10-17T13:55:06.385278Z",
     "shell.execute_reply": "2024-10-17T13:55:06.384341Z"
    },
    "papermill": {
     "duration": 0.036156,
     "end_time": "2024-10-17T13:55:06.387324",
     "exception": false,
     "start_time": "2024-10-17T13:55:06.351168",
     "status": "completed"
    },
    "tags": []
   },
   "outputs": [
    {
     "data": {
      "text/html": [
       "<div>\n",
       "<style scoped>\n",
       "    .dataframe tbody tr th:only-of-type {\n",
       "        vertical-align: middle;\n",
       "    }\n",
       "\n",
       "    .dataframe tbody tr th {\n",
       "        vertical-align: top;\n",
       "    }\n",
       "\n",
       "    .dataframe thead th {\n",
       "        text-align: right;\n",
       "    }\n",
       "</style>\n",
       "<table border=\"1\" class=\"dataframe\">\n",
       "  <thead>\n",
       "    <tr style=\"text-align: right;\">\n",
       "      <th></th>\n",
       "      <th>Name</th>\n",
       "      <th>Location</th>\n",
       "      <th>Year</th>\n",
       "      <th>Kilometers_Driven</th>\n",
       "      <th>Fuel_Type</th>\n",
       "      <th>Transmission</th>\n",
       "      <th>Owner_Type</th>\n",
       "      <th>Mileage</th>\n",
       "      <th>Engine</th>\n",
       "      <th>Power</th>\n",
       "      <th>Seats</th>\n",
       "      <th>Price</th>\n",
       "      <th>price_usd</th>\n",
       "      <th>Brand</th>\n",
       "      <th>Model</th>\n",
       "    </tr>\n",
       "  </thead>\n",
       "  <tbody>\n",
       "    <tr>\n",
       "      <th>0</th>\n",
       "      <td>Maruti Wagon R LXI CNG</td>\n",
       "      <td>Mumbai</td>\n",
       "      <td>2010</td>\n",
       "      <td>72000</td>\n",
       "      <td>CNG</td>\n",
       "      <td>Manual</td>\n",
       "      <td>First</td>\n",
       "      <td>26.6 km/kg</td>\n",
       "      <td>998 CC</td>\n",
       "      <td>58.16 bhp</td>\n",
       "      <td>5.0</td>\n",
       "      <td>1.75</td>\n",
       "      <td>2088.0125</td>\n",
       "      <td>Maruti</td>\n",
       "      <td>Wagon</td>\n",
       "    </tr>\n",
       "    <tr>\n",
       "      <th>1</th>\n",
       "      <td>Hyundai Creta 1.6 CRDi SX Option</td>\n",
       "      <td>Pune</td>\n",
       "      <td>2015</td>\n",
       "      <td>41000</td>\n",
       "      <td>Diesel</td>\n",
       "      <td>Manual</td>\n",
       "      <td>First</td>\n",
       "      <td>19.67 kmpl</td>\n",
       "      <td>1582 CC</td>\n",
       "      <td>126.2 bhp</td>\n",
       "      <td>5.0</td>\n",
       "      <td>12.50</td>\n",
       "      <td>14914.3750</td>\n",
       "      <td>Hyundai</td>\n",
       "      <td>Creta</td>\n",
       "    </tr>\n",
       "    <tr>\n",
       "      <th>2</th>\n",
       "      <td>Honda Jazz V</td>\n",
       "      <td>Chennai</td>\n",
       "      <td>2011</td>\n",
       "      <td>46000</td>\n",
       "      <td>Petrol</td>\n",
       "      <td>Manual</td>\n",
       "      <td>First</td>\n",
       "      <td>18.2 kmpl</td>\n",
       "      <td>1199 CC</td>\n",
       "      <td>88.7 bhp</td>\n",
       "      <td>5.0</td>\n",
       "      <td>4.50</td>\n",
       "      <td>5369.1750</td>\n",
       "      <td>Honda</td>\n",
       "      <td>Jazz</td>\n",
       "    </tr>\n",
       "    <tr>\n",
       "      <th>3</th>\n",
       "      <td>Maruti Ertiga VDI</td>\n",
       "      <td>Chennai</td>\n",
       "      <td>2012</td>\n",
       "      <td>87000</td>\n",
       "      <td>Diesel</td>\n",
       "      <td>Manual</td>\n",
       "      <td>First</td>\n",
       "      <td>20.77 kmpl</td>\n",
       "      <td>1248 CC</td>\n",
       "      <td>88.76 bhp</td>\n",
       "      <td>7.0</td>\n",
       "      <td>6.00</td>\n",
       "      <td>7158.9000</td>\n",
       "      <td>Maruti</td>\n",
       "      <td>Ertiga</td>\n",
       "    </tr>\n",
       "    <tr>\n",
       "      <th>4</th>\n",
       "      <td>Audi A4 New 2.0 TDI Multitronic</td>\n",
       "      <td>Coimbatore</td>\n",
       "      <td>2013</td>\n",
       "      <td>40670</td>\n",
       "      <td>Diesel</td>\n",
       "      <td>Automatic</td>\n",
       "      <td>Second</td>\n",
       "      <td>15.2 kmpl</td>\n",
       "      <td>1968 CC</td>\n",
       "      <td>140.8 bhp</td>\n",
       "      <td>5.0</td>\n",
       "      <td>17.74</td>\n",
       "      <td>21166.4810</td>\n",
       "      <td>Audi</td>\n",
       "      <td>A4</td>\n",
       "    </tr>\n",
       "  </tbody>\n",
       "</table>\n",
       "</div>"
      ],
      "text/plain": [
       "                               Name    Location  Year  Kilometers_Driven  \\\n",
       "0            Maruti Wagon R LXI CNG      Mumbai  2010              72000   \n",
       "1  Hyundai Creta 1.6 CRDi SX Option        Pune  2015              41000   \n",
       "2                      Honda Jazz V     Chennai  2011              46000   \n",
       "3                 Maruti Ertiga VDI     Chennai  2012              87000   \n",
       "4   Audi A4 New 2.0 TDI Multitronic  Coimbatore  2013              40670   \n",
       "\n",
       "  Fuel_Type Transmission Owner_Type     Mileage   Engine      Power Seats  \\\n",
       "0       CNG       Manual      First  26.6 km/kg   998 CC  58.16 bhp   5.0   \n",
       "1    Diesel       Manual      First  19.67 kmpl  1582 CC  126.2 bhp   5.0   \n",
       "2    Petrol       Manual      First   18.2 kmpl  1199 CC   88.7 bhp   5.0   \n",
       "3    Diesel       Manual      First  20.77 kmpl  1248 CC  88.76 bhp   7.0   \n",
       "4    Diesel    Automatic     Second   15.2 kmpl  1968 CC  140.8 bhp   5.0   \n",
       "\n",
       "   Price   price_usd    Brand   Model  \n",
       "0   1.75   2088.0125   Maruti   Wagon  \n",
       "1  12.50  14914.3750  Hyundai   Creta  \n",
       "2   4.50   5369.1750    Honda    Jazz  \n",
       "3   6.00   7158.9000   Maruti  Ertiga  \n",
       "4  17.74  21166.4810     Audi      A4  "
      ]
     },
     "execution_count": 16,
     "metadata": {},
     "output_type": "execute_result"
    }
   ],
   "source": [
    "df.head()"
   ]
  },
  {
   "cell_type": "code",
   "execution_count": 17,
   "id": "def584fd",
   "metadata": {
    "execution": {
     "iopub.execute_input": "2024-10-17T13:55:06.423140Z",
     "iopub.status.busy": "2024-10-17T13:55:06.422205Z",
     "iopub.status.idle": "2024-10-17T13:55:06.431112Z",
     "shell.execute_reply": "2024-10-17T13:55:06.430176Z"
    },
    "papermill": {
     "duration": 0.029668,
     "end_time": "2024-10-17T13:55:06.433228",
     "exception": false,
     "start_time": "2024-10-17T13:55:06.403560",
     "status": "completed"
    },
    "tags": []
   },
   "outputs": [
    {
     "data": {
      "text/plain": [
       "Year\n",
       "2014    797\n",
       "2015    744\n",
       "2016    741\n",
       "2013    649\n",
       "2017    587\n",
       "2012    580\n",
       "2011    466\n",
       "2010    342\n",
       "2018    298\n",
       "2009    198\n",
       "2008    174\n",
       "2007    125\n",
       "2019    102\n",
       "2006     78\n",
       "2005     57\n",
       "2004     31\n",
       "2003     17\n",
       "2002     15\n",
       "2001      8\n",
       "2000      4\n",
       "1998      4\n",
       "1999      2\n",
       "Name: count, dtype: int64"
      ]
     },
     "execution_count": 17,
     "metadata": {},
     "output_type": "execute_result"
    }
   ],
   "source": [
    "df['Year'].value_counts()"
   ]
  },
  {
   "cell_type": "code",
   "execution_count": 18,
   "id": "86ee584e",
   "metadata": {
    "execution": {
     "iopub.execute_input": "2024-10-17T13:55:06.467130Z",
     "iopub.status.busy": "2024-10-17T13:55:06.466764Z",
     "iopub.status.idle": "2024-10-17T13:55:06.820707Z",
     "shell.execute_reply": "2024-10-17T13:55:06.819691Z"
    },
    "papermill": {
     "duration": 0.3735,
     "end_time": "2024-10-17T13:55:06.822965",
     "exception": false,
     "start_time": "2024-10-17T13:55:06.449465",
     "status": "completed"
    },
    "tags": []
   },
   "outputs": [
    {
     "data": {
      "text/plain": [
       "<Axes: xlabel='Year', ylabel='price_usd'>"
      ]
     },
     "execution_count": 18,
     "metadata": {},
     "output_type": "execute_result"
    },
    {
     "data": {
      "image/png": "[encoded data removed]",
      "text/plain": [
       "<Figure size 640x480 with 1 Axes>"
      ]
     },
     "metadata": {},
     "output_type": "display_data"
    }
   ],
   "source": [
    " sns.scatterplot(data = df, x= 'Year', y='price_usd')"
   ]
  },
  {
   "cell_type": "code",
   "execution_count": 19,
   "id": "acdea76b",
   "metadata": {
    "execution": {
     "iopub.execute_input": "2024-10-17T13:55:06.860147Z",
     "iopub.status.busy": "2024-10-17T13:55:06.859240Z",
     "iopub.status.idle": "2024-10-17T13:55:07.547552Z",
     "shell.execute_reply": "2024-10-17T13:55:07.546552Z"
    },
    "papermill": {
     "duration": 0.709657,
     "end_time": "2024-10-17T13:55:07.550183",
     "exception": false,
     "start_time": "2024-10-17T13:55:06.840526",
     "status": "completed"
    },
    "tags": []
   },
   "outputs": [
    {
     "data": {
      "text/plain": [
       "<Axes: xlabel='Year', ylabel='price_usd'>"
      ]
     },
     "execution_count": 19,
     "metadata": {},
     "output_type": "execute_result"
    },
    {
     "data": {
      "image/png": "[encoded data removed]",
      "text/plain": [
       "<Figure size 640x480 with 1 Axes>"
      ]
     },
     "metadata": {},
     "output_type": "display_data"
    }
   ],
   "source": [
    " sns.boxplot(data = df, x= 'Year', y='price_usd')"
   ]
  },
  {
   "cell_type": "code",
   "execution_count": 20,
   "id": "f1323b0b",
   "metadata": {
    "execution": {
     "iopub.execute_input": "2024-10-17T13:55:07.588645Z",
     "iopub.status.busy": "2024-10-17T13:55:07.587756Z",
     "iopub.status.idle": "2024-10-17T13:55:07.595676Z",
     "shell.execute_reply": "2024-10-17T13:55:07.594699Z"
    },
    "papermill": {
     "duration": 0.029337,
     "end_time": "2024-10-17T13:55:07.597717",
     "exception": false,
     "start_time": "2024-10-17T13:55:07.568380",
     "status": "completed"
    },
    "tags": []
   },
   "outputs": [
    {
     "data": {
      "text/plain": [
       "(1998, 2019)"
      ]
     },
     "execution_count": 20,
     "metadata": {},
     "output_type": "execute_result"
    }
   ],
   "source": [
    "df.Year.min(), df.Year.max()"
   ]
  },
  {
   "cell_type": "code",
   "execution_count": 21,
   "id": "cd8f9689",
   "metadata": {
    "execution": {
     "iopub.execute_input": "2024-10-17T13:55:07.636456Z",
     "iopub.status.busy": "2024-10-17T13:55:07.635746Z",
     "iopub.status.idle": "2024-10-17T13:55:07.654321Z",
     "shell.execute_reply": "2024-10-17T13:55:07.653323Z"
    },
    "papermill": {
     "duration": 0.040656,
     "end_time": "2024-10-17T13:55:07.656671",
     "exception": false,
     "start_time": "2024-10-17T13:55:07.616015",
     "status": "completed"
    },
    "tags": []
   },
   "outputs": [
    {
     "data": {
      "text/html": [
       "<div>\n",
       "<style scoped>\n",
       "    .dataframe tbody tr th:only-of-type {\n",
       "        vertical-align: middle;\n",
       "    }\n",
       "\n",
       "    .dataframe tbody tr th {\n",
       "        vertical-align: top;\n",
       "    }\n",
       "\n",
       "    .dataframe thead th {\n",
       "        text-align: right;\n",
       "    }\n",
       "</style>\n",
       "<table border=\"1\" class=\"dataframe\">\n",
       "  <thead>\n",
       "    <tr style=\"text-align: right;\">\n",
       "      <th></th>\n",
       "      <th>Name</th>\n",
       "      <th>Location</th>\n",
       "      <th>Year</th>\n",
       "      <th>Kilometers_Driven</th>\n",
       "      <th>Fuel_Type</th>\n",
       "      <th>Transmission</th>\n",
       "      <th>Owner_Type</th>\n",
       "      <th>Mileage</th>\n",
       "      <th>Engine</th>\n",
       "      <th>Power</th>\n",
       "      <th>Seats</th>\n",
       "      <th>Price</th>\n",
       "      <th>price_usd</th>\n",
       "      <th>Brand</th>\n",
       "      <th>Model</th>\n",
       "      <th>Age</th>\n",
       "    </tr>\n",
       "  </thead>\n",
       "  <tbody>\n",
       "    <tr>\n",
       "      <th>0</th>\n",
       "      <td>Maruti Wagon R LXI CNG</td>\n",
       "      <td>Mumbai</td>\n",
       "      <td>2010</td>\n",
       "      <td>72000</td>\n",
       "      <td>CNG</td>\n",
       "      <td>Manual</td>\n",
       "      <td>First</td>\n",
       "      <td>26.6 km/kg</td>\n",
       "      <td>998 CC</td>\n",
       "      <td>58.16 bhp</td>\n",
       "      <td>5.0</td>\n",
       "      <td>1.75</td>\n",
       "      <td>2088.0125</td>\n",
       "      <td>Maruti</td>\n",
       "      <td>Wagon</td>\n",
       "      <td>14</td>\n",
       "    </tr>\n",
       "    <tr>\n",
       "      <th>1</th>\n",
       "      <td>Hyundai Creta 1.6 CRDi SX Option</td>\n",
       "      <td>Pune</td>\n",
       "      <td>2015</td>\n",
       "      <td>41000</td>\n",
       "      <td>Diesel</td>\n",
       "      <td>Manual</td>\n",
       "      <td>First</td>\n",
       "      <td>19.67 kmpl</td>\n",
       "      <td>1582 CC</td>\n",
       "      <td>126.2 bhp</td>\n",
       "      <td>5.0</td>\n",
       "      <td>12.50</td>\n",
       "      <td>14914.3750</td>\n",
       "      <td>Hyundai</td>\n",
       "      <td>Creta</td>\n",
       "      <td>9</td>\n",
       "    </tr>\n",
       "    <tr>\n",
       "      <th>2</th>\n",
       "      <td>Honda Jazz V</td>\n",
       "      <td>Chennai</td>\n",
       "      <td>2011</td>\n",
       "      <td>46000</td>\n",
       "      <td>Petrol</td>\n",
       "      <td>Manual</td>\n",
       "      <td>First</td>\n",
       "      <td>18.2 kmpl</td>\n",
       "      <td>1199 CC</td>\n",
       "      <td>88.7 bhp</td>\n",
       "      <td>5.0</td>\n",
       "      <td>4.50</td>\n",
       "      <td>5369.1750</td>\n",
       "      <td>Honda</td>\n",
       "      <td>Jazz</td>\n",
       "      <td>13</td>\n",
       "    </tr>\n",
       "    <tr>\n",
       "      <th>3</th>\n",
       "      <td>Maruti Ertiga VDI</td>\n",
       "      <td>Chennai</td>\n",
       "      <td>2012</td>\n",
       "      <td>87000</td>\n",
       "      <td>Diesel</td>\n",
       "      <td>Manual</td>\n",
       "      <td>First</td>\n",
       "      <td>20.77 kmpl</td>\n",
       "      <td>1248 CC</td>\n",
       "      <td>88.76 bhp</td>\n",
       "      <td>7.0</td>\n",
       "      <td>6.00</td>\n",
       "      <td>7158.9000</td>\n",
       "      <td>Maruti</td>\n",
       "      <td>Ertiga</td>\n",
       "      <td>12</td>\n",
       "    </tr>\n",
       "    <tr>\n",
       "      <th>4</th>\n",
       "      <td>Audi A4 New 2.0 TDI Multitronic</td>\n",
       "      <td>Coimbatore</td>\n",
       "      <td>2013</td>\n",
       "      <td>40670</td>\n",
       "      <td>Diesel</td>\n",
       "      <td>Automatic</td>\n",
       "      <td>Second</td>\n",
       "      <td>15.2 kmpl</td>\n",
       "      <td>1968 CC</td>\n",
       "      <td>140.8 bhp</td>\n",
       "      <td>5.0</td>\n",
       "      <td>17.74</td>\n",
       "      <td>21166.4810</td>\n",
       "      <td>Audi</td>\n",
       "      <td>A4</td>\n",
       "      <td>11</td>\n",
       "    </tr>\n",
       "  </tbody>\n",
       "</table>\n",
       "</div>"
      ],
      "text/plain": [
       "                               Name    Location  Year  Kilometers_Driven  \\\n",
       "0            Maruti Wagon R LXI CNG      Mumbai  2010              72000   \n",
       "1  Hyundai Creta 1.6 CRDi SX Option        Pune  2015              41000   \n",
       "2                      Honda Jazz V     Chennai  2011              46000   \n",
       "3                 Maruti Ertiga VDI     Chennai  2012              87000   \n",
       "4   Audi A4 New 2.0 TDI Multitronic  Coimbatore  2013              40670   \n",
       "\n",
       "  Fuel_Type Transmission Owner_Type     Mileage   Engine      Power Seats  \\\n",
       "0       CNG       Manual      First  26.6 km/kg   998 CC  58.16 bhp   5.0   \n",
       "1    Diesel       Manual      First  19.67 kmpl  1582 CC  126.2 bhp   5.0   \n",
       "2    Petrol       Manual      First   18.2 kmpl  1199 CC   88.7 bhp   5.0   \n",
       "3    Diesel       Manual      First  20.77 kmpl  1248 CC  88.76 bhp   7.0   \n",
       "4    Diesel    Automatic     Second   15.2 kmpl  1968 CC  140.8 bhp   5.0   \n",
       "\n",
       "   Price   price_usd    Brand   Model Age  \n",
       "0   1.75   2088.0125   Maruti   Wagon  14  \n",
       "1  12.50  14914.3750  Hyundai   Creta   9  \n",
       "2   4.50   5369.1750    Honda    Jazz  13  \n",
       "3   6.00   7158.9000   Maruti  Ertiga  12  \n",
       "4  17.74  21166.4810     Audi      A4  11  "
      ]
     },
     "execution_count": 21,
     "metadata": {},
     "output_type": "execute_result"
    }
   ],
   "source": [
    "# Feature Engineering \n",
    "df['Age']= 2024- df['Year']\n",
    "df.head()"
   ]
  },
  {
   "cell_type": "code",
   "execution_count": 22,
   "id": "7d576f46",
   "metadata": {
    "execution": {
     "iopub.execute_input": "2024-10-17T13:55:07.696026Z",
     "iopub.status.busy": "2024-10-17T13:55:07.695359Z",
     "iopub.status.idle": "2024-10-17T13:55:08.101334Z",
     "shell.execute_reply": "2024-10-17T13:55:08.100342Z"
    },
    "papermill": {
     "duration": 0.428228,
     "end_time": "2024-10-17T13:55:08.103586",
     "exception": false,
     "start_time": "2024-10-17T13:55:07.675358",
     "status": "completed"
    },
    "tags": []
   },
   "outputs": [
    {
     "name": "stderr",
     "output_type": "stream",
     "text": [
      "/opt/conda/lib/python3.10/site-packages/seaborn/_oldcore.py:1119: FutureWarning: use_inf_as_na option is deprecated and will be removed in a future version. Convert inf values to NaN before operating instead.\n",
      "  with pd.option_context('mode.use_inf_as_na', True):\n"
     ]
    },
    {
     "data": {
      "text/plain": [
       "<Axes: xlabel='Age', ylabel='Count'>"
      ]
     },
     "execution_count": 22,
     "metadata": {},
     "output_type": "execute_result"
    },
    {
     "data": {
      "image/png": "[encoded data removed]",
      "text/plain": [
       "<Figure size 640x480 with 1 Axes>"
      ]
     },
     "metadata": {},
     "output_type": "display_data"
    }
   ],
   "source": [
    "sns.histplot(data= df, x='Age')"
   ]
  },
  {
   "cell_type": "code",
   "execution_count": 23,
   "id": "8d8a0472",
   "metadata": {
    "execution": {
     "iopub.execute_input": "2024-10-17T13:55:08.144073Z",
     "iopub.status.busy": "2024-10-17T13:55:08.143136Z",
     "iopub.status.idle": "2024-10-17T13:55:08.151868Z",
     "shell.execute_reply": "2024-10-17T13:55:08.150908Z"
    },
    "papermill": {
     "duration": 0.031251,
     "end_time": "2024-10-17T13:55:08.153965",
     "exception": false,
     "start_time": "2024-10-17T13:55:08.122714",
     "status": "completed"
    },
    "tags": []
   },
   "outputs": [
    {
     "data": {
      "text/plain": [
       "array(['26.6 km/kg', '19.67 kmpl', '18.2 kmpl', '20.77 kmpl', '15.2 kmpl',\n",
       "       '21.1 km/kg', '23.08 kmpl', '11.36 kmpl', '20.54 kmpl',\n",
       "       '22.3 kmpl', '21.56 kmpl', '16.8 kmpl', '25.2 kmpl', '12.7 kmpl',\n",
       "       '0.0 kmpl', '13.5 kmpl', '25.8 kmpl', '28.4 kmpl', '20.45 kmpl',\n",
       "       '14.84 kmpl', '22.69 kmpl', '23.65 kmpl', '13.53 kmpl',\n",
       "       '18.5 kmpl', '14.4 kmpl', '20.92 kmpl', '17.5 kmpl', '12.8 kmpl',\n",
       "       '19.01 kmpl', '14.53 kmpl', '11.18 kmpl', '12.4 kmpl',\n",
       "       '16.09 kmpl', '14.0 kmpl', '24.3 kmpl', '18.15 kmpl', '11.74 kmpl',\n",
       "       '22.07 kmpl', '19.7 kmpl', '25.4 kmpl', '25.32 kmpl', '14.62 kmpl',\n",
       "       '14.28 kmpl', '14.9 kmpl', '11.25 kmpl', '24.4 kmpl', '16.55 kmpl',\n",
       "       '17.11 kmpl', '22.9 kmpl', '17.8 kmpl', '18.9 kmpl', '15.04 kmpl',\n",
       "       '25.17 kmpl', '20.36 kmpl', '13.29 kmpl', '13.68 kmpl',\n",
       "       '20.0 kmpl', '15.8 kmpl', '25.0 kmpl', '16.4 kmpl', '24.52 kmpl',\n",
       "       '22.1 kmpl', '8.5 kmpl', '15.1 kmpl', '16.95 kmpl', '19.64 kmpl',\n",
       "       '16.5 kmpl', '18.53 kmpl', '17.57 kmpl', '18.0 kmpl', '23.2 kmpl',\n",
       "       '16.73 kmpl', '17.0 kmpl', '13.0 kmpl', '17.68 kmpl', '22.7 kmpl',\n",
       "       '16.2 kmpl', '15.26 kmpl', '23.0 kmpl', '19.83 kmpl', '14.94 kmpl',\n",
       "       '17.71 kmpl', '14.74 kmpl', '16.0 kmpl', '22.32 kmpl',\n",
       "       '12.99 kmpl', '23.3 kmpl', '19.15 kmpl', '10.8 kmpl', '15.0 kmpl',\n",
       "       '22.0 kmpl', '21.9 kmpl', '12.05 kmpl', '11.7 kmpl', '21.21 kmpl',\n",
       "       '20.73 kmpl', '21.1 kmpl', '24.07 kmpl', '19.0 kmpl', '20.58 kmpl',\n",
       "       '19.27 kmpl', '11.5 kmpl', '18.6 kmpl', '21.14 kmpl', '11.05 kmpl',\n",
       "       '21.76 kmpl', '7.81 kmpl', '21.66 kmpl', '17.2 kmpl', '20.63 kmpl',\n",
       "       '19.4 kmpl', '14.8 kmpl', '26.0 kmpl', '20.4 kmpl', '21.5 kmpl',\n",
       "       '15.3 kmpl', '17.9 kmpl', '16.6 kmpl', '22.54 kmpl', '25.44 kmpl',\n",
       "       '13.7 kmpl', '22.48 kmpl', '12.9 kmpl', '19.98 kmpl', '21.4 kmpl',\n",
       "       '19.81 kmpl', '15.4 kmpl', '25.47 kmpl', '19.87 kmpl',\n",
       "       '17.45 kmpl', '14.7 kmpl', '15.64 kmpl', '15.73 kmpl',\n",
       "       '23.59 kmpl', '16.1 kmpl', '27.4 kmpl', '20.46 kmpl', '15.29 kmpl',\n",
       "       '20.51 kmpl', '11.8 kmpl', '14.3 kmpl', '14.67 kmpl', '17.19 kmpl',\n",
       "       '21.03 kmpl', '22.5 kmpl', '16.82 kmpl', '11.72 kmpl', '17.4 kmpl',\n",
       "       '17.05 kmpl', '24.0 kmpl', '28.09 kmpl', '20.5 kmpl', '13.1 kmpl',\n",
       "       '19.91 kmpl', '18.7 kmpl', '16.38 kmpl', '11.57 kmpl', '17.3 kmpl',\n",
       "       '22.95 kmpl', '18.88 kmpl', '23.4 kmpl', '22.74 kmpl',\n",
       "       '12.07 kmpl', '17.1 kmpl', '18.48 kmpl', '16.47 kmpl', '23.1 kmpl',\n",
       "       '14.07 kmpl', '16.02 kmpl', '19.3 kmpl', '17.7 kmpl', '9.52 kmpl',\n",
       "       '14.75 kmpl', '26.3 km/kg', '11.3 kmpl', '21.12 kmpl',\n",
       "       '21.02 kmpl', '14.45 kmpl', '19.33 kmpl', '13.8 kmpl', '24.7 kmpl',\n",
       "       '11.0 kmpl', '11.07 kmpl', '21.43 kmpl', '14.21 kmpl',\n",
       "       '18.86 kmpl', '16.07 kmpl', '13.49 kmpl', '20.38 kmpl',\n",
       "       '12.0 kmpl', '17.01 kmpl', '13.2 kmpl', '20.37 kmpl', '15.1 km/kg',\n",
       "       '15.96 kmpl', '14.16 kmpl', '13.17 kmpl', '27.62 kmpl',\n",
       "       '25.1 kmpl', '15.17 kmpl', '11.33 kmpl', '17.92 kmpl',\n",
       "       '12.55 kmpl', '12.6 kmpl', '17.72 kmpl', '18.16 kmpl',\n",
       "       '15.68 kmpl', '15.5 kmpl', '12.1 kmpl', '14.83 kmpl', '17.6 kmpl',\n",
       "       '14.6 kmpl', '14.66 kmpl', '10.93 kmpl', '20.68 kmpl', '9.9 kmpl',\n",
       "       '21.13 kmpl', '20.14 kmpl', '19.2 kmpl', '27.3 kmpl', '16.36 kmpl',\n",
       "       '26.59 kmpl', '12.5 kmpl', '13.6 kmpl', '15.06 kmpl', '10.13 kmpl',\n",
       "       '17.21 kmpl', '15.97 kmpl', '10.5 kmpl', '14.69 kmpl', '23.9 kmpl',\n",
       "       '19.1 kmpl', '21.27 kmpl', '15.9 kmpl', '20.7 kmpl', '14.1 kmpl',\n",
       "       '20.89 kmpl', '18.12 kmpl', '12.3 kmpl', '19.71 kmpl', '9.43 kmpl',\n",
       "       '13.4 kmpl', '13.14 kmpl', '18.1 kmpl', '22.77 kmpl', '14.49 kmpl',\n",
       "       '12.39 kmpl', '10.91 kmpl', '20.85 kmpl', '15.63 kmpl',\n",
       "       '27.39 kmpl', '18.3 kmpl', '16.78 kmpl', '25.5 kmpl', '10.0 kmpl',\n",
       "       '13.73 kmpl', '24.2 kmpl', '14.02 kmpl', '26.83 km/kg',\n",
       "       '16.77 kmpl', '24.5 kmpl', '20.34 kmpl', '21.7 kmpl', '9.7 kmpl',\n",
       "       '14.33 kmpl', '21.64 kmpl', '13.2 km/kg', '19.16 kmpl',\n",
       "       '16.93 kmpl', '9.0 kmpl', '26.2 km/kg', '16.3 kmpl', '12.62 kmpl',\n",
       "       '17.3 km/kg', '20.64 kmpl', '14.24 kmpl', '18.06 kmpl',\n",
       "       '10.2 kmpl', '10.1 kmpl', '18.25 kmpl', '13.93 kmpl', '25.83 kmpl',\n",
       "       '8.6 kmpl', '13.24 kmpl', '17.09 kmpl', '23.84 kmpl', '8.45 kmpl',\n",
       "       '19.6 kmpl', '19.5 kmpl', '20.3 kmpl', '16.05 kmpl', '11.2 kmpl',\n",
       "       '27.03 kmpl', '18.78 kmpl', '12.35 kmpl', '14.59 kmpl',\n",
       "       '17.32 kmpl', '14.95 kmpl', '13.22 kmpl', '23.03 kmpl',\n",
       "       '33.44 km/kg', '15.6 kmpl', '19.12 kmpl', '10.98 kmpl',\n",
       "       '33.54 km/kg', '16.46 kmpl', '18.4 kmpl', '11.1 kmpl',\n",
       "       '13.01 kmpl', '18.8 kmpl', '16.52 kmpl', '18.44 kmpl',\n",
       "       '19.49 kmpl', '23.5 kmpl', '23.8 kmpl', '12.65 kmpl', '20.65 kmpl',\n",
       "       '21.72 kmpl', '12.19 kmpl', '26.1 kmpl', '18.33 kmpl',\n",
       "       '12.81 kmpl', '17.5 km/kg', '17.06 kmpl', '17.67 kmpl',\n",
       "       '19.34 kmpl', '8.3 kmpl', '16.96 kmpl', '11.79 kmpl', '20.86 kmpl',\n",
       "       '16.98 kmpl', '11.68 kmpl', '15.74 kmpl', '15.7 kmpl',\n",
       "       '18.49 kmpl', '10.9 kmpl', '19.59 kmpl', '11.4 kmpl', '13.06 kmpl',\n",
       "       '21.0 kmpl', '15.15 kmpl', '16.9 kmpl', '18.23 kmpl', '25.0 km/kg',\n",
       "       '17.16 kmpl', '17.43 kmpl', '19.08 kmpl', '18.56 kmpl',\n",
       "       '11.9 kmpl', '24.6 km/kg', '21.79 kmpl', '12.95 kmpl', '25.6 kmpl',\n",
       "       '13.45 km/kg', '26.21 kmpl', '13.58 kmpl', '16.25 kmpl',\n",
       "       '10.4 kmpl', '17.44 kmpl', '19.2 km/kg', '22.71 kmpl',\n",
       "       '17.54 kmpl', '22.1 km/kg', '17.0 km/kg', '15.87 kmpl', '9.5 kmpl',\n",
       "       '11.56 kmpl', '14.39 kmpl', '19.09 kmpl', '17.85 kmpl',\n",
       "       '31.79 km/kg', '18.18 kmpl', '21.19 kmpl', '21.8 kmpl',\n",
       "       '15.42 kmpl', '14.47 kmpl', '19.69 kmpl', '12.83 kmpl', '8.0 kmpl',\n",
       "       '22.8 km/kg', '12.63 kmpl', '14.57 kmpl', '27.28 kmpl',\n",
       "       '15.41 kmpl', '32.26 km/kg', '18.19 kmpl', '13.33 kmpl',\n",
       "       '16.7 kmpl', '17.84 kmpl', '20.0 km/kg', '23.19 kmpl',\n",
       "       '11.49 kmpl', '18.51 kmpl', '13.44 kmpl', '8.7 kmpl', '8.77 kmpl',\n",
       "       '17.97 kmpl', '23.57 kmpl', '12.37 kmpl', '9.1 kmpl', '12.51 kmpl',\n",
       "       '19.44 kmpl', '21.38 kmpl', '16.51 kmpl', '24.8 kmpl',\n",
       "       '14.42 kmpl', '14.53 km/kg', '26.8 kmpl', '24.04 kmpl', '9.8 kmpl',\n",
       "       '19.68 kmpl', '21.4 km/kg', '21.2 kmpl', '19.72 kmpl', '14.2 kmpl',\n",
       "       '12.98 kmpl', '23.01 kmpl', '16.12 kmpl', '9.3 kmpl', '15.85 kmpl',\n",
       "       nan, '17.88 kmpl', '10.6 kmpl', '11.78 kmpl', '7.94 kmpl',\n",
       "       '25.01 kmpl', '8.1 kmpl', '13.9 kmpl', '11.62 kmpl', '20.62 kmpl',\n",
       "       '15.11 kmpl', '10.37 kmpl', '18.59 kmpl', '9.74 kmpl',\n",
       "       '14.81 kmpl', '8.2 kmpl', '12.97 kmpl', '7.5 kmpl', '30.46 km/kg',\n",
       "       '6.4 kmpl', '12.85 kmpl', '18.69 kmpl', '17.24 kmpl'], dtype=object)"
      ]
     },
     "execution_count": 23,
     "metadata": {},
     "output_type": "execute_result"
    }
   ],
   "source": [
    "# Mileage \n",
    "df['Mileage'].unique()"
   ]
  },
  {
   "cell_type": "code",
   "execution_count": 24,
   "id": "cf1af4fa",
   "metadata": {
    "execution": {
     "iopub.execute_input": "2024-10-17T13:55:08.194366Z",
     "iopub.status.busy": "2024-10-17T13:55:08.193932Z",
     "iopub.status.idle": "2024-10-17T13:55:08.207750Z",
     "shell.execute_reply": "2024-10-17T13:55:08.206680Z"
    },
    "papermill": {
     "duration": 0.036673,
     "end_time": "2024-10-17T13:55:08.210019",
     "exception": false,
     "start_time": "2024-10-17T13:55:08.173346",
     "status": "completed"
    },
    "tags": []
   },
   "outputs": [],
   "source": [
    "def mileage_convert(x):\n",
    "    if type(x)== str:\n",
    "        if x.split()[-1]== 'km/kg':\n",
    "            return float(x.split()[0])*1.40  #formula\n",
    "        elif x.split()[-1]== 'kmpl':\n",
    "            return float(x.split()[0])\n",
    "    else:\n",
    "        return np.nan \n",
    "\n",
    "df['Mileage(kmpl)'] = df['Mileage'].apply(mileage_convert)"
   ]
  },
  {
   "cell_type": "code",
   "execution_count": 25,
   "id": "f7008b47",
   "metadata": {
    "execution": {
     "iopub.execute_input": "2024-10-17T13:55:08.250483Z",
     "iopub.status.busy": "2024-10-17T13:55:08.250061Z",
     "iopub.status.idle": "2024-10-17T13:55:08.257313Z",
     "shell.execute_reply": "2024-10-17T13:55:08.256343Z"
    },
    "papermill": {
     "duration": 0.029788,
     "end_time": "2024-10-17T13:55:08.259325",
     "exception": false,
     "start_time": "2024-10-17T13:55:08.229537",
     "status": "completed"
    },
    "tags": []
   },
   "outputs": [
    {
     "data": {
      "text/plain": [
       "2"
      ]
     },
     "execution_count": 25,
     "metadata": {},
     "output_type": "execute_result"
    }
   ],
   "source": [
    "df['Mileage(kmpl)'].isna().sum()"
   ]
  },
  {
   "cell_type": "code",
   "execution_count": 26,
   "id": "e9d619c5",
   "metadata": {
    "execution": {
     "iopub.execute_input": "2024-10-17T13:55:08.300854Z",
     "iopub.status.busy": "2024-10-17T13:55:08.300082Z",
     "iopub.status.idle": "2024-10-17T13:55:08.307452Z",
     "shell.execute_reply": "2024-10-17T13:55:08.306493Z"
    },
    "papermill": {
     "duration": 0.030044,
     "end_time": "2024-10-17T13:55:08.309512",
     "exception": false,
     "start_time": "2024-10-17T13:55:08.279468",
     "status": "completed"
    },
    "tags": []
   },
   "outputs": [
    {
     "data": {
      "text/plain": [
       "array(['998 CC', '1582 CC', '1199 CC', '1248 CC', '1968 CC', '814 CC',\n",
       "       '1461 CC', '2755 CC', '1598 CC', '1462 CC', '1497 CC', '2179 CC',\n",
       "       '2477 CC', '1498 CC', '2143 CC', '1995 CC', '1984 CC', '1197 CC',\n",
       "       '2494 CC', '1798 CC', '2696 CC', '2698 CC', '1061 CC', '1198 CC',\n",
       "       '2987 CC', '796 CC', '624 CC', '1999 CC', '1991 CC', '2694 CC',\n",
       "       '1120 CC', '2498 CC', '799 CC', '2393 CC', '1399 CC', '1796 CC',\n",
       "       '2148 CC', '1396 CC', '1950 CC', '4806 CC', '1998 CC', '1086 CC',\n",
       "       '1193 CC', '2982 CC', '1493 CC', '2967 CC', '2993 CC', '1196 CC',\n",
       "       '1799 CC', '2497 CC', '2354 CC', '1373 CC', '2996 CC', '1591 CC',\n",
       "       '2894 CC', '5461 CC', '1595 CC', '936 CC', '1997 CC', nan,\n",
       "       '1896 CC', '1390 CC', '1364 CC', '2199 CC', '993 CC', '999 CC',\n",
       "       '1405 CC', '2956 CC', '1794 CC', '995 CC', '2496 CC', '1599 CC',\n",
       "       '2400 CC', '1495 CC', '2523 CC', '793 CC', '4134 CC', '1596 CC',\n",
       "       '1395 CC', '2953 CC', '1586 CC', '2362 CC', '1496 CC', '1368 CC',\n",
       "       '1298 CC', '1956 CC', '1299 CC', '3498 CC', '2835 CC', '1150 CC',\n",
       "       '3198 CC', '1343 CC', '1499 CC', '1186 CC', '1590 CC', '2609 CC',\n",
       "       '2499 CC', '2446 CC', '1978 CC', '2360 CC', '3436 CC', '2198 CC',\n",
       "       '4367 CC', '2706 CC', '1422 CC', '2979 CC', '1969 CC', '1489 CC',\n",
       "       '2489 CC', '1242 CC', '1388 CC', '1172 CC', '2495 CC', '1194 CC',\n",
       "       '3200 CC', '1781 CC', '1341 CC', '2773 CC', '3597 CC', '1985 CC',\n",
       "       '2147 CC', '1047 CC', '2999 CC', '2995 CC', '2997 CC', '1948 CC',\n",
       "       '2359 CC', '4395 CC', '2349 CC', '2720 CC', '1468 CC', '3197 CC',\n",
       "       '2487 CC', '1597 CC', '2771 CC', '72 CC', '4951 CC', '970 CC',\n",
       "       '2925 CC', '2200 CC', '5000 CC', '2149 CC', '5998 CC', '2092 CC',\n",
       "       '5204 CC', '2112 CC', '1797 CC'], dtype=object)"
      ]
     },
     "execution_count": 26,
     "metadata": {},
     "output_type": "execute_result"
    }
   ],
   "source": [
    "# Engine\n",
    "df['Engine'].unique()"
   ]
  },
  {
   "cell_type": "code",
   "execution_count": 27,
   "id": "ec706007",
   "metadata": {
    "execution": {
     "iopub.execute_input": "2024-10-17T13:55:08.350470Z",
     "iopub.status.busy": "2024-10-17T13:55:08.349782Z",
     "iopub.status.idle": "2024-10-17T13:55:08.359679Z",
     "shell.execute_reply": "2024-10-17T13:55:08.358581Z"
    },
    "papermill": {
     "duration": 0.032774,
     "end_time": "2024-10-17T13:55:08.361887",
     "exception": false,
     "start_time": "2024-10-17T13:55:08.329113",
     "status": "completed"
    },
    "tags": []
   },
   "outputs": [],
   "source": [
    "def engine_convert(x):\n",
    "    if type(x)== str:\n",
    "        return float(x.split()[0])\n",
    "    else:\n",
    "        return np.nan \n",
    "\n",
    "df['Engine'] = df['Engine'].apply(engine_convert)"
   ]
  },
  {
   "cell_type": "code",
   "execution_count": 28,
   "id": "e242a94a",
   "metadata": {
    "execution": {
     "iopub.execute_input": "2024-10-17T13:55:08.402558Z",
     "iopub.status.busy": "2024-10-17T13:55:08.401621Z",
     "iopub.status.idle": "2024-10-17T13:55:08.408514Z",
     "shell.execute_reply": "2024-10-17T13:55:08.407571Z"
    },
    "papermill": {
     "duration": 0.029563,
     "end_time": "2024-10-17T13:55:08.410738",
     "exception": false,
     "start_time": "2024-10-17T13:55:08.381175",
     "status": "completed"
    },
    "tags": []
   },
   "outputs": [
    {
     "data": {
      "text/plain": [
       "36"
      ]
     },
     "execution_count": 28,
     "metadata": {},
     "output_type": "execute_result"
    }
   ],
   "source": [
    "df['Engine'].isna().sum()"
   ]
  },
  {
   "cell_type": "code",
   "execution_count": 29,
   "id": "066aca89",
   "metadata": {
    "execution": {
     "iopub.execute_input": "2024-10-17T13:55:08.452991Z",
     "iopub.status.busy": "2024-10-17T13:55:08.452280Z",
     "iopub.status.idle": "2024-10-17T13:55:08.460183Z",
     "shell.execute_reply": "2024-10-17T13:55:08.459253Z"
    },
    "papermill": {
     "duration": 0.031007,
     "end_time": "2024-10-17T13:55:08.462520",
     "exception": false,
     "start_time": "2024-10-17T13:55:08.431513",
     "status": "completed"
    },
    "tags": []
   },
   "outputs": [
    {
     "data": {
      "text/plain": [
       "array(['58.16 bhp', '126.2 bhp', '88.7 bhp', '88.76 bhp', '140.8 bhp',\n",
       "       '55.2 bhp', '63.1 bhp', '171.5 bhp', '103.6 bhp', '74 bhp',\n",
       "       '103.25 bhp', '116.3 bhp', '187.7 bhp', '115 bhp', '175.56 bhp',\n",
       "       '98.6 bhp', '83.8 bhp', '167.62 bhp', '190 bhp', '88.5 bhp',\n",
       "       '177.01 bhp', '80 bhp', '67.1 bhp', '102 bhp', '108.45 bhp',\n",
       "       '138.1 bhp', '184 bhp', '179.5 bhp', '103.5 bhp', '64 bhp',\n",
       "       '82 bhp', '254.8 bhp', '73.9 bhp', '46.3 bhp', '37.5 bhp',\n",
       "       '77 bhp', '82.9 bhp', '149.92 bhp', '138.03 bhp', '112.2 bhp',\n",
       "       '163.7 bhp', '71 bhp', '105 bhp', '174.33 bhp', '75 bhp',\n",
       "       '103.2 bhp', '53.3 bhp', '78.9 bhp', '147.6 bhp', '147.8 bhp',\n",
       "       '68 bhp', '186 bhp', '170 bhp', '69 bhp', '140 bhp', '78 bhp',\n",
       "       '194 bhp', '500 bhp', '108.5 bhp', '86.8 bhp', '187.74 bhp',\n",
       "       'null bhp', '132 bhp', '86.7 bhp', '73.94 bhp', '117.3 bhp',\n",
       "       '218 bhp', '168.5 bhp', '89.84 bhp', '110 bhp', '90 bhp',\n",
       "       '82.85 bhp', '67 bhp', '241.4 bhp', '35 bhp', '270.9 bhp',\n",
       "       '126.32 bhp', '73 bhp', '130 bhp', '100.6 bhp', '150 bhp',\n",
       "       '75.94 bhp', '215 bhp', '107.3 bhp', '37.48 bhp', '120 bhp',\n",
       "       '178 bhp', '152 bhp', '91.1 bhp', '85.80 bhp', '362.07 bhp',\n",
       "       '121.3 bhp', '143 bhp', '81.80 bhp', '171 bhp', '76.8 bhp',\n",
       "       '103.52 bhp', '444 bhp', '362.9 bhp', '67.06 bhp', '120.7 bhp',\n",
       "       '258 bhp', '81.86 bhp', '112 bhp', '88.73 bhp', '57.6 bhp',\n",
       "       '157.75 bhp', '102.5 bhp', '201.1 bhp', '83.1 bhp', '68.05 bhp',\n",
       "       '88.50 bhp', nan, '106 bhp', '100 bhp', '81.83 bhp', '85 bhp',\n",
       "       '64.1 bhp', '177.5 bhp', '246.7 bhp', '177.46 bhp', '65 bhp',\n",
       "       '67.04 bhp', '189.08 bhp', '99 bhp', '53.5 bhp', '194.3 bhp',\n",
       "       '70 bhp', '183 bhp', '254.79 bhp', '66.1 bhp', '76 bhp', '60 bhp',\n",
       "       '123.24 bhp', '47.3 bhp', '118 bhp', '88.8 bhp', '177 bhp',\n",
       "       '136 bhp', '201.15 bhp', '93.7 bhp', '177.6 bhp', '313 bhp',\n",
       "       '245 bhp', '125 bhp', '141 bhp', '227 bhp', '62 bhp', '141.1 bhp',\n",
       "       '83.14 bhp', '192 bhp', '67.05 bhp', '47 bhp', '235 bhp', '37 bhp',\n",
       "       '87.2 bhp', '203 bhp', '204 bhp', '246.74 bhp', '122 bhp',\n",
       "       '282 bhp', '181 bhp', '224 bhp', '94 bhp', '367 bhp', '98.79 bhp',\n",
       "       '62.1 bhp', '174.3 bhp', '114 bhp', '335.2 bhp', '169 bhp',\n",
       "       '191.34 bhp', '108.49 bhp', '138.02 bhp', '156 bhp', '187.4 bhp',\n",
       "       '66 bhp', '103.3 bhp', '164.7 bhp', '79.4 bhp', '198.5 bhp',\n",
       "       '154 bhp', '73.8 bhp', '181.43 bhp', '85.8 bhp', '207.8 bhp',\n",
       "       '108.4 bhp', '88 bhp', '63 bhp', '82.5 bhp', '364.9 bhp',\n",
       "       '107.2 bhp', '113.98 bhp', '126.3 bhp', '185 bhp', '237.4 bhp',\n",
       "       '99.6 bhp', '66.7 bhp', '160 bhp', '306 bhp', '98.59 bhp',\n",
       "       '92.7 bhp', '147.51 bhp', '197.2 bhp', '167.6 bhp', '165 bhp',\n",
       "       '110.4 bhp', '73.97 bhp', '147.9 bhp', '116.6 bhp', '148 bhp',\n",
       "       '34.2 bhp', '155 bhp', '197 bhp', '108.62 bhp', '118.3 bhp',\n",
       "       '38.4 bhp', '241.38 bhp', '153.86 bhp', '163.5 bhp', '226.6 bhp',\n",
       "       '84.8 bhp', '53.64 bhp', '158.2 bhp', '69.01 bhp', '181.03 bhp',\n",
       "       '58.2 bhp', '104.68 bhp', '126.24 bhp', '73.75 bhp', '158 bhp',\n",
       "       '130.2 bhp', '57.5 bhp', '97.7 bhp', '121.4 bhp', '98.96 bhp',\n",
       "       '174.5 bhp', '308 bhp', '121.36 bhp', '138 bhp', '265 bhp',\n",
       "       '84 bhp', '321 bhp', '91.72 bhp', '65.3 bhp', '88.2 bhp', '93 bhp',\n",
       "       '35.5 bhp', '86.79 bhp', '157.7 bhp', '40.3 bhp', '91.7 bhp',\n",
       "       '180 bhp', '114.4 bhp', '158.8 bhp', '157.8 bhp', '123.7 bhp',\n",
       "       '56.3 bhp', '189 bhp', '104 bhp', '210 bhp', '270.88 bhp',\n",
       "       '142 bhp', '255 bhp', '236 bhp', '167.7 bhp', '148.31 bhp',\n",
       "       '80.46 bhp', '138.08 bhp', '250 bhp', '74.9 bhp', '91.2 bhp',\n",
       "       '102.57 bhp', '97.6 bhp', '102.53 bhp', '240 bhp', '254 bhp',\n",
       "       '112.4 bhp', '73.74 bhp', '108.495 bhp', '116.9 bhp', '101 bhp',\n",
       "       '320 bhp', '70.02 bhp', '261.49 bhp', '105.5 bhp', '550 bhp',\n",
       "       '168.7 bhp', '55.23 bhp', '94.68 bhp', '152.88 bhp', '163.2 bhp',\n",
       "       '203.2 bhp', '241 bhp', '95 bhp', '200 bhp', '271.23 bhp',\n",
       "       '63.12 bhp', '85.7 bhp', '308.43 bhp', '118.6 bhp', '199.3 bhp',\n",
       "       '83.83 bhp', '55 bhp', '83 bhp', '300 bhp', '201 bhp', '262.6 bhp',\n",
       "       '163 bhp', '58.33 bhp', '86.76 bhp', '76.9 bhp', '174.57 bhp',\n",
       "       '301.73 bhp', '68.1 bhp', '162 bhp', '394.3 bhp', '80.9 bhp',\n",
       "       '147.5 bhp', '272 bhp', '340 bhp', '120.33 bhp', '82.4 bhp',\n",
       "       '231.1 bhp', '335.3 bhp', '333 bhp', '198.25 bhp', '224.34 bhp',\n",
       "       '402 bhp', '261 bhp', '61 bhp', '144 bhp', '71.01 bhp',\n",
       "       '271.72 bhp', '134 bhp', '135.1 bhp', '92 bhp', '64.08 bhp',\n",
       "       '261.5 bhp', '123.37 bhp', '175.67 bhp', '53 bhp', '110.5 bhp',\n",
       "       '178.4 bhp', '193.1 bhp', '41 bhp', '395 bhp', '48.21 bhp',\n",
       "       '450 bhp', '421 bhp', '89.75 bhp', '387.3 bhp', '130.3 bhp',\n",
       "       '281.61 bhp', '52.8 bhp', '139.01 bhp', '208 bhp', '503 bhp',\n",
       "       '168 bhp', '98.82 bhp', '139.07 bhp', '83.11 bhp', '74.93 bhp',\n",
       "       '382 bhp', '74.96 bhp', '552 bhp', '127 bhp', '560 bhp',\n",
       "       '116.4 bhp', '161.6 bhp', '488.1 bhp', '103 bhp', '181.04 bhp'],\n",
       "      dtype=object)"
      ]
     },
     "execution_count": 29,
     "metadata": {},
     "output_type": "execute_result"
    }
   ],
   "source": [
    "# power \n",
    "df['Power'].unique()"
   ]
  },
  {
   "cell_type": "code",
   "execution_count": 30,
   "id": "b28ceb3c",
   "metadata": {
    "execution": {
     "iopub.execute_input": "2024-10-17T13:55:08.504528Z",
     "iopub.status.busy": "2024-10-17T13:55:08.503748Z",
     "iopub.status.idle": "2024-10-17T13:55:08.512426Z",
     "shell.execute_reply": "2024-10-17T13:55:08.511447Z"
    },
    "papermill": {
     "duration": 0.031792,
     "end_time": "2024-10-17T13:55:08.514382",
     "exception": false,
     "start_time": "2024-10-17T13:55:08.482590",
     "status": "completed"
    },
    "tags": []
   },
   "outputs": [],
   "source": [
    "def power_convert(x):\n",
    "    if type(x)== str:\n",
    "        return x.split()[0]\n",
    "    else:\n",
    "        return np.nan \n",
    "\n",
    "df['Power'] = df['Power'].apply(power_convert)"
   ]
  },
  {
   "cell_type": "code",
   "execution_count": 31,
   "id": "103c81e2",
   "metadata": {
    "execution": {
     "iopub.execute_input": "2024-10-17T13:55:08.556527Z",
     "iopub.status.busy": "2024-10-17T13:55:08.555867Z",
     "iopub.status.idle": "2024-10-17T13:55:08.564081Z",
     "shell.execute_reply": "2024-10-17T13:55:08.563115Z"
    },
    "papermill": {
     "duration": 0.031503,
     "end_time": "2024-10-17T13:55:08.566220",
     "exception": false,
     "start_time": "2024-10-17T13:55:08.534717",
     "status": "completed"
    },
    "tags": []
   },
   "outputs": [
    {
     "data": {
      "text/plain": [
       "0       58.16\n",
       "1       126.2\n",
       "2        88.7\n",
       "3       88.76\n",
       "4       140.8\n",
       "        ...  \n",
       "6014       74\n",
       "6015       71\n",
       "6016      112\n",
       "6017     67.1\n",
       "6018     57.6\n",
       "Name: Power, Length: 6019, dtype: object"
      ]
     },
     "execution_count": 31,
     "metadata": {},
     "output_type": "execute_result"
    }
   ],
   "source": [
    "df['Power']"
   ]
  },
  {
   "cell_type": "code",
   "execution_count": 32,
   "id": "8d33ece9",
   "metadata": {
    "execution": {
     "iopub.execute_input": "2024-10-17T13:55:08.607789Z",
     "iopub.status.busy": "2024-10-17T13:55:08.607122Z",
     "iopub.status.idle": "2024-10-17T13:55:08.619521Z",
     "shell.execute_reply": "2024-10-17T13:55:08.618537Z"
    },
    "papermill": {
     "duration": 0.035508,
     "end_time": "2024-10-17T13:55:08.621624",
     "exception": false,
     "start_time": "2024-10-17T13:55:08.586116",
     "status": "completed"
    },
    "tags": []
   },
   "outputs": [
    {
     "data": {
      "text/plain": [
       "0        58.16\n",
       "1       126.20\n",
       "2        88.70\n",
       "3        88.76\n",
       "4       140.80\n",
       "         ...  \n",
       "6014     74.00\n",
       "6015     71.00\n",
       "6016    112.00\n",
       "6017     67.10\n",
       "6018     57.60\n",
       "Name: Power, Length: 6019, dtype: float64"
      ]
     },
     "execution_count": 32,
     "metadata": {},
     "output_type": "execute_result"
    }
   ],
   "source": [
    "df['Power']= pd.to_numeric(df['Power'], errors= 'coerce')\n",
    "df['Power']"
   ]
  },
  {
   "cell_type": "code",
   "execution_count": 33,
   "id": "55c29309",
   "metadata": {
    "execution": {
     "iopub.execute_input": "2024-10-17T13:55:08.664065Z",
     "iopub.status.busy": "2024-10-17T13:55:08.663143Z",
     "iopub.status.idle": "2024-10-17T13:55:08.670316Z",
     "shell.execute_reply": "2024-10-17T13:55:08.669349Z"
    },
    "papermill": {
     "duration": 0.030714,
     "end_time": "2024-10-17T13:55:08.672436",
     "exception": false,
     "start_time": "2024-10-17T13:55:08.641722",
     "status": "completed"
    },
    "tags": []
   },
   "outputs": [
    {
     "data": {
      "text/plain": [
       "143"
      ]
     },
     "execution_count": 33,
     "metadata": {},
     "output_type": "execute_result"
    }
   ],
   "source": [
    "df['Power'].isna().sum()"
   ]
  },
  {
   "cell_type": "code",
   "execution_count": 34,
   "id": "4e88f3c6",
   "metadata": {
    "execution": {
     "iopub.execute_input": "2024-10-17T13:55:08.715008Z",
     "iopub.status.busy": "2024-10-17T13:55:08.714337Z",
     "iopub.status.idle": "2024-10-17T13:55:09.002093Z",
     "shell.execute_reply": "2024-10-17T13:55:09.001057Z"
    },
    "papermill": {
     "duration": 0.31163,
     "end_time": "2024-10-17T13:55:09.004176",
     "exception": false,
     "start_time": "2024-10-17T13:55:08.692546",
     "status": "completed"
    },
    "tags": []
   },
   "outputs": [
    {
     "data": {
      "text/plain": [
       "<Axes: xlabel='Kilometers_Driven'>"
      ]
     },
     "execution_count": 34,
     "metadata": {},
     "output_type": "execute_result"
    },
    {
     "data": {
      "image/png": "[encoded data removed]",
      "text/plain": [
       "<Figure size 640x480 with 1 Axes>"
      ]
     },
     "metadata": {},
     "output_type": "display_data"
    }
   ],
   "source": [
    "sns.boxplot(data =df, x= 'Kilometers_Driven')"
   ]
  },
  {
   "cell_type": "code",
   "execution_count": 35,
   "id": "55378ef2",
   "metadata": {
    "execution": {
     "iopub.execute_input": "2024-10-17T13:55:09.046780Z",
     "iopub.status.busy": "2024-10-17T13:55:09.046369Z",
     "iopub.status.idle": "2024-10-17T13:55:09.054954Z",
     "shell.execute_reply": "2024-10-17T13:55:09.054020Z"
    },
    "papermill": {
     "duration": 0.032315,
     "end_time": "2024-10-17T13:55:09.056968",
     "exception": false,
     "start_time": "2024-10-17T13:55:09.024653",
     "status": "completed"
    },
    "tags": []
   },
   "outputs": [
    {
     "data": {
      "text/plain": [
       "Seats\n",
       "5.0     5014\n",
       "7.0      674\n",
       "8.0      134\n",
       "4.0       99\n",
       "6.0       31\n",
       "2.0       16\n",
       "10.0       5\n",
       "9.0        3\n",
       "0.0        1\n",
       "Name: count, dtype: int64"
      ]
     },
     "execution_count": 35,
     "metadata": {},
     "output_type": "execute_result"
    }
   ],
   "source": [
    "df['Seats'].value_counts()"
   ]
  },
  {
   "cell_type": "code",
   "execution_count": 36,
   "id": "c41051d5",
   "metadata": {
    "execution": {
     "iopub.execute_input": "2024-10-17T13:55:09.100441Z",
     "iopub.status.busy": "2024-10-17T13:55:09.099998Z",
     "iopub.status.idle": "2024-10-17T13:55:09.110132Z",
     "shell.execute_reply": "2024-10-17T13:55:09.109137Z"
    },
    "papermill": {
     "duration": 0.034886,
     "end_time": "2024-10-17T13:55:09.112511",
     "exception": false,
     "start_time": "2024-10-17T13:55:09.077625",
     "status": "completed"
    },
    "tags": []
   },
   "outputs": [],
   "source": [
    "df.drop(df[df['Seats']==0].index, axis=0, inplace=True )"
   ]
  },
  {
   "cell_type": "code",
   "execution_count": 37,
   "id": "f427b578",
   "metadata": {
    "execution": {
     "iopub.execute_input": "2024-10-17T13:55:09.157021Z",
     "iopub.status.busy": "2024-10-17T13:55:09.156621Z",
     "iopub.status.idle": "2024-10-17T13:55:09.165138Z",
     "shell.execute_reply": "2024-10-17T13:55:09.164119Z"
    },
    "papermill": {
     "duration": 0.033497,
     "end_time": "2024-10-17T13:55:09.167197",
     "exception": false,
     "start_time": "2024-10-17T13:55:09.133700",
     "status": "completed"
    },
    "tags": []
   },
   "outputs": [
    {
     "data": {
      "text/plain": [
       "Seats\n",
       "5.0     5014\n",
       "7.0      674\n",
       "8.0      134\n",
       "4.0       99\n",
       "6.0       31\n",
       "2.0       16\n",
       "10.0       5\n",
       "9.0        3\n",
       "Name: count, dtype: int64"
      ]
     },
     "execution_count": 37,
     "metadata": {},
     "output_type": "execute_result"
    }
   ],
   "source": [
    "df['Seats'].value_counts()"
   ]
  },
  {
   "cell_type": "code",
   "execution_count": 38,
   "id": "00910ae4",
   "metadata": {
    "execution": {
     "iopub.execute_input": "2024-10-17T13:55:09.210524Z",
     "iopub.status.busy": "2024-10-17T13:55:09.209797Z",
     "iopub.status.idle": "2024-10-17T13:55:09.216739Z",
     "shell.execute_reply": "2024-10-17T13:55:09.215709Z"
    },
    "papermill": {
     "duration": 0.031093,
     "end_time": "2024-10-17T13:55:09.218980",
     "exception": false,
     "start_time": "2024-10-17T13:55:09.187887",
     "status": "completed"
    },
    "tags": []
   },
   "outputs": [
    {
     "data": {
      "text/plain": [
       "6500000"
      ]
     },
     "execution_count": 38,
     "metadata": {},
     "output_type": "execute_result"
    }
   ],
   "source": [
    "df['Kilometers_Driven'].max()"
   ]
  },
  {
   "cell_type": "code",
   "execution_count": 39,
   "id": "3c20c199",
   "metadata": {
    "execution": {
     "iopub.execute_input": "2024-10-17T13:55:09.266012Z",
     "iopub.status.busy": "2024-10-17T13:55:09.265612Z",
     "iopub.status.idle": "2024-10-17T13:55:09.275285Z",
     "shell.execute_reply": "2024-10-17T13:55:09.274441Z"
    },
    "papermill": {
     "duration": 0.034275,
     "end_time": "2024-10-17T13:55:09.277461",
     "exception": false,
     "start_time": "2024-10-17T13:55:09.243186",
     "status": "completed"
    },
    "tags": []
   },
   "outputs": [],
   "source": [
    "df.drop(df[df['Kilometers_Driven']== df['Kilometers_Driven'].max()].index, axis=0, inplace=True )"
   ]
  },
  {
   "cell_type": "code",
   "execution_count": 40,
   "id": "8943a0ad",
   "metadata": {
    "execution": {
     "iopub.execute_input": "2024-10-17T13:55:09.321367Z",
     "iopub.status.busy": "2024-10-17T13:55:09.320959Z",
     "iopub.status.idle": "2024-10-17T13:55:09.327348Z",
     "shell.execute_reply": "2024-10-17T13:55:09.326424Z"
    },
    "papermill": {
     "duration": 0.030708,
     "end_time": "2024-10-17T13:55:09.329621",
     "exception": false,
     "start_time": "2024-10-17T13:55:09.298913",
     "status": "completed"
    },
    "tags": []
   },
   "outputs": [
    {
     "data": {
      "text/plain": [
       "775000"
      ]
     },
     "execution_count": 40,
     "metadata": {},
     "output_type": "execute_result"
    }
   ],
   "source": [
    "df['Kilometers_Driven'].max()"
   ]
  },
  {
   "cell_type": "markdown",
   "id": "b2698054",
   "metadata": {
    "papermill": {
     "duration": 0.020898,
     "end_time": "2024-10-17T13:55:09.371497",
     "exception": false,
     "start_time": "2024-10-17T13:55:09.350599",
     "status": "completed"
    },
    "tags": []
   },
   "source": [
    "# Missing values\n"
   ]
  },
  {
   "cell_type": "code",
   "execution_count": 41,
   "id": "95ef1dfd",
   "metadata": {
    "execution": {
     "iopub.execute_input": "2024-10-17T13:55:09.415178Z",
     "iopub.status.busy": "2024-10-17T13:55:09.414441Z",
     "iopub.status.idle": "2024-10-17T13:55:09.427759Z",
     "shell.execute_reply": "2024-10-17T13:55:09.426779Z"
    },
    "papermill": {
     "duration": 0.037478,
     "end_time": "2024-10-17T13:55:09.429845",
     "exception": false,
     "start_time": "2024-10-17T13:55:09.392367",
     "status": "completed"
    },
    "tags": []
   },
   "outputs": [
    {
     "data": {
      "text/plain": [
       "Name                   0\n",
       "Location               0\n",
       "Year                   0\n",
       "Kilometers_Driven      0\n",
       "Fuel_Type              0\n",
       "Transmission           0\n",
       "Owner_Type             0\n",
       "Mileage                2\n",
       "Engine                36\n",
       "Power                142\n",
       "Seats                 42\n",
       "Price                  0\n",
       "price_usd              0\n",
       "Brand                  0\n",
       "Model                  0\n",
       "Age                    0\n",
       "Mileage(kmpl)          2\n",
       "dtype: int64"
      ]
     },
     "execution_count": 41,
     "metadata": {},
     "output_type": "execute_result"
    }
   ],
   "source": [
    "df.isna().sum()"
   ]
  },
  {
   "cell_type": "code",
   "execution_count": 42,
   "id": "055b4d85",
   "metadata": {
    "execution": {
     "iopub.execute_input": "2024-10-17T13:55:09.474058Z",
     "iopub.status.busy": "2024-10-17T13:55:09.473385Z",
     "iopub.status.idle": "2024-10-17T13:55:09.481030Z",
     "shell.execute_reply": "2024-10-17T13:55:09.480149Z"
    },
    "papermill": {
     "duration": 0.032108,
     "end_time": "2024-10-17T13:55:09.483070",
     "exception": false,
     "start_time": "2024-10-17T13:55:09.450962",
     "status": "completed"
    },
    "tags": []
   },
   "outputs": [],
   "source": [
    "df.drop(['Mileage','Year','price_usd'],axis=1 , inplace=True)"
   ]
  },
  {
   "cell_type": "code",
   "execution_count": 43,
   "id": "cc7e5e4c",
   "metadata": {
    "execution": {
     "iopub.execute_input": "2024-10-17T13:55:09.526772Z",
     "iopub.status.busy": "2024-10-17T13:55:09.525876Z",
     "iopub.status.idle": "2024-10-17T13:55:09.537257Z",
     "shell.execute_reply": "2024-10-17T13:55:09.536327Z"
    },
    "papermill": {
     "duration": 0.035439,
     "end_time": "2024-10-17T13:55:09.539407",
     "exception": false,
     "start_time": "2024-10-17T13:55:09.503968",
     "status": "completed"
    },
    "tags": []
   },
   "outputs": [
    {
     "data": {
      "text/plain": [
       "Name                   0\n",
       "Location               0\n",
       "Kilometers_Driven      0\n",
       "Fuel_Type              0\n",
       "Transmission           0\n",
       "Owner_Type             0\n",
       "Engine                36\n",
       "Power                142\n",
       "Seats                 42\n",
       "Price                  0\n",
       "Brand                  0\n",
       "Model                  0\n",
       "Age                    0\n",
       "Mileage(kmpl)          2\n",
       "dtype: int64"
      ]
     },
     "execution_count": 43,
     "metadata": {},
     "output_type": "execute_result"
    }
   ],
   "source": [
    "df.isna().sum()"
   ]
  },
  {
   "cell_type": "code",
   "execution_count": 44,
   "id": "ef0ca962",
   "metadata": {
    "execution": {
     "iopub.execute_input": "2024-10-17T13:55:09.584225Z",
     "iopub.status.busy": "2024-10-17T13:55:09.583317Z",
     "iopub.status.idle": "2024-10-17T13:55:09.595255Z",
     "shell.execute_reply": "2024-10-17T13:55:09.594243Z"
    },
    "papermill": {
     "duration": 0.036609,
     "end_time": "2024-10-17T13:55:09.597209",
     "exception": false,
     "start_time": "2024-10-17T13:55:09.560600",
     "status": "completed"
    },
    "tags": []
   },
   "outputs": [
    {
     "data": {
      "text/plain": [
       "Name                 0.000000\n",
       "Location             0.000000\n",
       "Kilometers_Driven    0.000000\n",
       "Fuel_Type            0.000000\n",
       "Transmission         0.000000\n",
       "Owner_Type           0.000000\n",
       "Engine               0.005983\n",
       "Power                0.023600\n",
       "Seats                0.006980\n",
       "Price                0.000000\n",
       "Brand                0.000000\n",
       "Model                0.000000\n",
       "Age                  0.000000\n",
       "Mileage(kmpl)        0.000332\n",
       "dtype: float64"
      ]
     },
     "execution_count": 44,
     "metadata": {},
     "output_type": "execute_result"
    }
   ],
   "source": [
    "df.isna().mean()"
   ]
  },
  {
   "cell_type": "markdown",
   "id": "25a104d1",
   "metadata": {
    "papermill": {
     "duration": 0.021089,
     "end_time": "2024-10-17T13:55:09.639460",
     "exception": false,
     "start_time": "2024-10-17T13:55:09.618371",
     "status": "completed"
    },
    "tags": []
   },
   "source": [
    "# Outliers"
   ]
  },
  {
   "cell_type": "code",
   "execution_count": 45,
   "id": "fa9df8c2",
   "metadata": {
    "execution": {
     "iopub.execute_input": "2024-10-17T13:55:09.684145Z",
     "iopub.status.busy": "2024-10-17T13:55:09.683263Z",
     "iopub.status.idle": "2024-10-17T13:55:09.691071Z",
     "shell.execute_reply": "2024-10-17T13:55:09.690174Z"
    },
    "papermill": {
     "duration": 0.032338,
     "end_time": "2024-10-17T13:55:09.693142",
     "exception": false,
     "start_time": "2024-10-17T13:55:09.660804",
     "status": "completed"
    },
    "tags": []
   },
   "outputs": [
    {
     "data": {
      "text/plain": [
       "Name                  object\n",
       "Location              object\n",
       "Kilometers_Driven      int64\n",
       "Fuel_Type             object\n",
       "Transmission          object\n",
       "Owner_Type            object\n",
       "Engine               float64\n",
       "Power                float64\n",
       "Seats                 object\n",
       "Price                float64\n",
       "Brand                 object\n",
       "Model                 object\n",
       "Age                   object\n",
       "Mileage(kmpl)        float64\n",
       "dtype: object"
      ]
     },
     "execution_count": 45,
     "metadata": {},
     "output_type": "execute_result"
    }
   ],
   "source": [
    "df.dtypes"
   ]
  },
  {
   "cell_type": "code",
   "execution_count": 46,
   "id": "42811532",
   "metadata": {
    "execution": {
     "iopub.execute_input": "2024-10-17T13:55:09.737955Z",
     "iopub.status.busy": "2024-10-17T13:55:09.737222Z",
     "iopub.status.idle": "2024-10-17T13:55:09.743255Z",
     "shell.execute_reply": "2024-10-17T13:55:09.742168Z"
    },
    "papermill": {
     "duration": 0.03101,
     "end_time": "2024-10-17T13:55:09.745463",
     "exception": false,
     "start_time": "2024-10-17T13:55:09.714453",
     "status": "completed"
    },
    "tags": []
   },
   "outputs": [],
   "source": [
    "df['Age']= df['Age'].astype('int')"
   ]
  },
  {
   "cell_type": "code",
   "execution_count": 47,
   "id": "c7707b3d",
   "metadata": {
    "execution": {
     "iopub.execute_input": "2024-10-17T13:55:09.790064Z",
     "iopub.status.busy": "2024-10-17T13:55:09.789666Z",
     "iopub.status.idle": "2024-10-17T13:55:09.797803Z",
     "shell.execute_reply": "2024-10-17T13:55:09.796802Z"
    },
    "papermill": {
     "duration": 0.033166,
     "end_time": "2024-10-17T13:55:09.800069",
     "exception": false,
     "start_time": "2024-10-17T13:55:09.766903",
     "status": "completed"
    },
    "tags": []
   },
   "outputs": [
    {
     "data": {
      "text/plain": [
       "Index(['Kilometers_Driven', 'Engine', 'Power', 'Price', 'Age',\n",
       "       'Mileage(kmpl)'],\n",
       "      dtype='object')"
      ]
     },
     "execution_count": 47,
     "metadata": {},
     "output_type": "execute_result"
    }
   ],
   "source": [
    "num_cols = df.select_dtypes(exclude= 'object').columns\n",
    "num_cols"
   ]
  },
  {
   "cell_type": "code",
   "execution_count": 48,
   "id": "4a05ccd3",
   "metadata": {
    "execution": {
     "iopub.execute_input": "2024-10-17T13:55:09.845133Z",
     "iopub.status.busy": "2024-10-17T13:55:09.844730Z",
     "iopub.status.idle": "2024-10-17T13:55:10.999573Z",
     "shell.execute_reply": "2024-10-17T13:55:10.998470Z"
    },
    "papermill": {
     "duration": 1.180287,
     "end_time": "2024-10-17T13:55:11.001966",
     "exception": false,
     "start_time": "2024-10-17T13:55:09.821679",
     "status": "completed"
    },
    "tags": []
   },
   "outputs": [
    {
     "data": {
      "image/png": "[encoded data removed]",
      "text/plain": [
       "<Figure size 640x480 with 1 Axes>"
      ]
     },
     "metadata": {},
     "output_type": "display_data"
    },
    {
     "data": {
      "image/png": "[encoded data removed]",
      "text/plain": [
       "<Figure size 640x480 with 1 Axes>"
      ]
     },
     "metadata": {},
     "output_type": "display_data"
    },
    {
     "data": {
      "image/png": "[encoded data removed]",
      "text/plain": [
       "<Figure size 640x480 with 1 Axes>"
      ]
     },
     "metadata": {},
     "output_type": "display_data"
    },
    {
     "data": {
      "image/png": "[encoded data removed]",
      "text/plain": [
       "<Figure size 640x480 with 1 Axes>"
      ]
     },
     "metadata": {},
     "output_type": "display_data"
    },
    {
     "data": {
      "image/png": "[encoded data removed]",
      "text/plain": [
       "<Figure size 640x480 with 1 Axes>"
      ]
     },
     "metadata": {},
     "output_type": "display_data"
    },
    {
     "data": {
      "image/png": "[encoded data removed]",
      "text/plain": [
       "<Figure size 640x480 with 1 Axes>"
      ]
     },
     "metadata": {},
     "output_type": "display_data"
    }
   ],
   "source": [
    "for col in num_cols:\n",
    "    sns.boxplot(data= df, x=col)\n",
    "    plt.show()"
   ]
  },
  {
   "cell_type": "code",
   "execution_count": null,
   "id": "85a0cd02",
   "metadata": {
    "papermill": {
     "duration": 0.022899,
     "end_time": "2024-10-17T13:55:11.049365",
     "exception": false,
     "start_time": "2024-10-17T13:55:11.026466",
     "status": "completed"
    },
    "tags": []
   },
   "outputs": [],
   "source": []
  }
 ],
 "metadata": {
  "kaggle": {
   "accelerator": "none",
   "dataSources": [
    {
     "datasetId": 245550,
     "sourceId": 518431,
     "sourceType": "datasetVersion"
    }
   ],
   "dockerImageVersionId": 30786,
   "isGpuEnabled": false,
   "isInternetEnabled": false,
   "language": "python",
   "sourceType": "notebook"
  },
  "kernelspec": {
   "display_name": "Python 3",
   "language": "python",
   "name": "python3"
  },
  "language_info": {
   "codemirror_mode": {
    "name": "ipython",
    "version": 3
   },
   "file_extension": ".py",
   "mimetype": "text/x-python",
   "name": "python",
   "nbconvert_exporter": "python",
   "pygments_lexer": "ipython3",
   "version": "3.10.14"
  },
  "papermill": {
   "default_parameters": {},
   "duration": 15.973475,
   "end_time": "2024-10-17T13:55:11.793089",
   "environment_variables": {},
   "exception": null,
   "input_path": "__notebook__.ipynb",
   "output_path": "__notebook__.ipynb",
   "parameters": {},
   "start_time": "2024-10-17T13:54:55.819614",
   "version": "2.6.0"
  }
 },
 "nbformat": 4,
 "nbformat_minor": 5
}
